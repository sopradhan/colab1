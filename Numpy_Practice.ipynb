{
 "cells": [
  {
   "cell_type": "code",
   "execution_count": 3,
   "metadata": {
    "executionInfo": {
     "elapsed": 579,
     "status": "ok",
     "timestamp": 1642504695484,
     "user": {
      "displayName": "Sambodhi Manna",
      "photoUrl": "https://lh3.googleusercontent.com/a-/AOh14GhVAU5TU_3l04MhfSwWQiPTQywnOMuHa5h1OMoR4g=s64",
      "userId": "10481347771371009651"
     },
     "user_tz": -330
    },
    "id": "ynE9R19cPIMT"
   },
   "outputs": [],
   "source": [
    "# The first step of using numpy is to tell python to import it\n",
    "import numpy as np"
   ]
  },
  {
   "cell_type": "markdown",
   "metadata": {
    "id": "V7NoTi0kTGVz"
   },
   "source": [
    "### 2.1 NumPy Arrays"
   ]
  },
  {
   "cell_type": "markdown",
   "metadata": {
    "id": "cYsQgeSWalcG"
   },
   "source": [
    "**NumPy Array**\n",
    "* An array is a data structure that stores values of same data type.\n",
    "* While python lists can contain values corresponding to different data types, arrays in python can only contain values corresponding to the same data type. \n",
    "* However python lists fail to deliver the performance required while computing large sets of numerical data. To address this issue we use NumPy arrays.\n",
    "* We can create NumPy arrays by converting a list to an array.\n"
   ]
  },
  {
   "cell_type": "code",
   "execution_count": 4,
   "metadata": {
    "executionInfo": {
     "elapsed": 20,
     "status": "ok",
     "timestamp": 1642504696516,
     "user": {
      "displayName": "Sambodhi Manna",
      "photoUrl": "https://lh3.googleusercontent.com/a-/AOh14GhVAU5TU_3l04MhfSwWQiPTQywnOMuHa5h1OMoR4g=s64",
      "userId": "10481347771371009651"
     },
     "user_tz": -330
    },
    "id": "-iMbhbKUS01I"
   },
   "outputs": [],
   "source": [
    "# defining a list of different car companies or string elements\n",
    "arr_str = ['Mercedes', 'BMW', 'Audi', 'Ferrari', 'Tesla']\n",
    "\n",
    "# defining a list of number of cylinders in car or numerical elements\n",
    "arr_num = [5, 4, 6, 7, 3]"
   ]
  },
  {
   "cell_type": "code",
   "execution_count": 5,
   "metadata": {
    "colab": {
     "base_uri": "https://localhost:8080/"
    },
    "executionInfo": {
     "elapsed": 19,
     "status": "ok",
     "timestamp": 1642504696516,
     "user": {
      "displayName": "Sambodhi Manna",
      "photoUrl": "https://lh3.googleusercontent.com/a-/AOh14GhVAU5TU_3l04MhfSwWQiPTQywnOMuHa5h1OMoR4g=s64",
      "userId": "10481347771371009651"
     },
     "user_tz": -330
    },
    "id": "z8kfV796S0xz",
    "outputId": "0e985164-da1f-4215-e732-ae4f27a0973d"
   },
   "outputs": [
    {
     "name": "stdout",
     "output_type": "stream",
     "text": [
      "Numpy Array (arr_str):  ['Mercedes' 'BMW' 'Audi' 'Ferrari' 'Tesla']\n",
      "Numpy Array (arr_num):  [5 4 6 7 3]\n"
     ]
    }
   ],
   "source": [
    "# connverting the list arr_str to a NumPy array\n",
    "np_arr_str = np.array(arr_str)\n",
    "\n",
    "\n",
    "# connverting the list arr_num to a NumPy array\n",
    "np_arr_num = np.array(arr_num)\n",
    "\n",
    "# checking the output\n",
    "print('Numpy Array (arr_str): ',np_arr_str)\n",
    "print('Numpy Array (arr_num): ',np_arr_num)"
   ]
  },
  {
   "cell_type": "markdown",
   "metadata": {
    "id": "fNUnCIRbS0vz"
   },
   "source": [
    "The resuts look similar to a list but arr_str and arr_num have been converted to NumPy arrays. Let's check the data type to confirm this."
   ]
  },
  {
   "cell_type": "code",
   "execution_count": 6,
   "metadata": {
    "colab": {
     "base_uri": "https://localhost:8080/"
    },
    "executionInfo": {
     "elapsed": 15,
     "status": "ok",
     "timestamp": 1642504696516,
     "user": {
      "displayName": "Sambodhi Manna",
      "photoUrl": "https://lh3.googleusercontent.com/a-/AOh14GhVAU5TU_3l04MhfSwWQiPTQywnOMuHa5h1OMoR4g=s64",
      "userId": "10481347771371009651"
     },
     "user_tz": -330
    },
    "id": "Cc_-eibuS0sr",
    "outputId": "5f2d845c-ed2a-4ea4-a707-7d2951436871"
   },
   "outputs": [
    {
     "name": "stdout",
     "output_type": "stream",
     "text": [
      "Data type of arr_str:  <class 'list'>\n",
      "Data type of arr_num:  <class 'list'>\n",
      "Data type of np_arr_str:  <class 'numpy.ndarray'>\n",
      "Data type of np_arr_num:  <class 'numpy.ndarray'>\n"
     ]
    }
   ],
   "source": [
    "# printing the data type of lists\n",
    "print('Data type of arr_str: ',type(arr_str))\n",
    "print('Data type of arr_num: ',type(arr_num))\n",
    "\n",
    "# printing the data type after conversion of lists to array\n",
    "print('Data type of np_arr_str: ',type(np_arr_str))\n",
    "print('Data type of np_arr_num: ',type(np_arr_num))"
   ]
  },
  {
   "cell_type": "markdown",
   "metadata": {
    "id": "D5MBk_c0gorg"
   },
   "source": [
    "* The above output confirms that both the lists were successfully converted to arrays"
   ]
  },
  {
   "cell_type": "markdown",
   "metadata": {
    "id": "vO-p9figS0qt"
   },
   "source": [
    "**NumPy Matrix**"
   ]
  },
  {
   "cell_type": "markdown",
   "metadata": {
    "id": "63nVxGI-dEFn"
   },
   "source": [
    "* A matrix is a two-dimensional data structure where elements are arranged into rows and columns.\n",
    "* A matrix can be created by using list of lists"
   ]
  },
  {
   "cell_type": "code",
   "execution_count": 8,
   "metadata": {
    "colab": {
     "base_uri": "https://localhost:8080/"
    },
    "executionInfo": {
     "elapsed": 13,
     "status": "ok",
     "timestamp": 1642504696516,
     "user": {
      "displayName": "Sambodhi Manna",
      "photoUrl": "https://lh3.googleusercontent.com/a-/AOh14GhVAU5TU_3l04MhfSwWQiPTQywnOMuHa5h1OMoR4g=s64",
      "userId": "10481347771371009651"
     },
     "user_tz": -330
    },
    "id": "eHL0aPSOS0fT",
    "outputId": "dfcf0882-5c8d-4d88-aafd-e067521d41c5"
   },
   "outputs": [
    {
     "name": "stdout",
     "output_type": "stream",
     "text": [
      "[[1 2 1]\n",
      " [4 5 9]\n",
      " [1 8 9]]\n"
     ]
    }
   ],
   "source": [
    "# let's say we have information of different number of cylinders in a car and we want to display them in a matrix format\n",
    "matrix = np.array([[1,2,1],[4,5,9],[1,8,9]])\n",
    "print(matrix)"
   ]
  },
  {
   "cell_type": "code",
   "execution_count": 9,
   "metadata": {
    "colab": {
     "base_uri": "https://localhost:8080/"
    },
    "executionInfo": {
     "elapsed": 12,
     "status": "ok",
     "timestamp": 1642504696517,
     "user": {
      "displayName": "Sambodhi Manna",
      "photoUrl": "https://lh3.googleusercontent.com/a-/AOh14GhVAU5TU_3l04MhfSwWQiPTQywnOMuHa5h1OMoR4g=s64",
      "userId": "10481347771371009651"
     },
     "user_tz": -330
    },
    "id": "1l5-7_3T2svj",
    "outputId": "23c5a73f-e29c-4ced-e2e1-eb55fa43749a"
   },
   "outputs": [
    {
     "name": "stdout",
     "output_type": "stream",
     "text": [
      "Data type of matrix:  <class 'numpy.ndarray'>\n"
     ]
    }
   ],
   "source": [
    "print('Data type of matrix: ',type(matrix))"
   ]
  },
  {
   "cell_type": "markdown",
   "metadata": {
    "id": "ic8DdniJAYi4"
   },
   "source": [
    "* We see that all the NumPy objects have data type as ndarray"
   ]
  },
  {
   "cell_type": "markdown",
   "metadata": {
    "id": "s_QCIWxNPywk"
   },
   "source": [
    "### 2.2 NumPy Functions"
   ]
  },
  {
   "cell_type": "markdown",
   "metadata": {
    "id": "9ByN9uM8dIp9"
   },
   "source": [
    "**There are different ways to create NumPy arrays using the functions available in NumPy library**"
   ]
  },
  {
   "cell_type": "markdown",
   "metadata": {
    "id": "mJD-BCvcdjQY"
   },
   "source": [
    "**Using np.arange() function**\n",
    "* The np.arange() function returns an array with evenly spaced elements as per the interval. The interval mentioned is half-opened i.e. start is included but stop is excluded.\n",
    "* It has the following paramaters:\n",
    "  * start : start of interval range. By default start = 0\n",
    "  * stop  : end of interval range\n",
    "  * step  : step size of interval. By default step size = 1"
   ]
  },
  {
   "cell_type": "code",
   "execution_count": 10,
   "metadata": {
    "colab": {
     "base_uri": "https://localhost:8080/"
    },
    "executionInfo": {
     "elapsed": 11,
     "status": "ok",
     "timestamp": 1642504696517,
     "user": {
      "displayName": "Sambodhi Manna",
      "photoUrl": "https://lh3.googleusercontent.com/a-/AOh14GhVAU5TU_3l04MhfSwWQiPTQywnOMuHa5h1OMoR4g=s64",
      "userId": "10481347771371009651"
     },
     "user_tz": -330
    },
    "id": "h6yhwhCfdhrO",
    "outputId": "2b357bbb-13a2-4e3c-d47f-96b1f39659d9"
   },
   "outputs": [
    {
     "name": "stdout",
     "output_type": "stream",
     "text": [
      "[0 1 2 3 4 5 6 7 8 9]\n"
     ]
    }
   ],
   "source": [
    "arr2  = np.arange(start = 0, stop = 10) # 10 will be excluded from the output\n",
    "print(arr2)"
   ]
  },
  {
   "cell_type": "code",
   "execution_count": 11,
   "metadata": {
    "colab": {
     "base_uri": "https://localhost:8080/"
    },
    "executionInfo": {
     "elapsed": 11,
     "status": "ok",
     "timestamp": 1642504696517,
     "user": {
      "displayName": "Sambodhi Manna",
      "photoUrl": "https://lh3.googleusercontent.com/a-/AOh14GhVAU5TU_3l04MhfSwWQiPTQywnOMuHa5h1OMoR4g=s64",
      "userId": "10481347771371009651"
     },
     "user_tz": -330
    },
    "id": "h6yhwhCfdhrO",
    "outputId": "2b357bbb-13a2-4e3c-d47f-96b1f39659d9"
   },
   "outputs": [
    {
     "name": "stdout",
     "output_type": "stream",
     "text": [
      "[0 1 2 3 4 5 6 7 8 9]\n"
     ]
    }
   ],
   "source": [
    "# or\n",
    "\n",
    "arr2  = np.arange(0,10) \n",
    "print(arr2)"
   ]
  },
  {
   "cell_type": "code",
   "execution_count": 12,
   "metadata": {
    "colab": {
     "base_uri": "https://localhost:8080/"
    },
    "executionInfo": {
     "elapsed": 10,
     "status": "ok",
     "timestamp": 1642504696517,
     "user": {
      "displayName": "Sambodhi Manna",
      "photoUrl": "https://lh3.googleusercontent.com/a-/AOh14GhVAU5TU_3l04MhfSwWQiPTQywnOMuHa5h1OMoR4g=s64",
      "userId": "10481347771371009651"
     },
     "user_tz": -330
    },
    "id": "EBQxWv87gij1",
    "outputId": "42d5a0dd-d45f-4dc6-cf45-6d127b1e4271"
   },
   "outputs": [
    {
     "data": {
      "text/plain": [
       "array([ 0,  5, 10, 15])"
      ]
     },
     "execution_count": 12,
     "metadata": {},
     "output_type": "execute_result"
    }
   ],
   "source": [
    "# adding a step size of 5 to create an array\n",
    "arr3  = np.arange(start = 0, stop = 20, step = 5)\n",
    "arr3"
   ]
  },
  {
   "cell_type": "markdown",
   "metadata": {
    "id": "fadu1DMxge1S"
   },
   "source": [
    "**Using np.linspace() function**\n",
    "* The np.linspace() function returns numbers which are evenly distributed with respect to interval. Here the start and stop both are included.            \n",
    "*It has the following parameters:              \n",
    " * start: start of interval range. By default start = 0\n",
    " * stop: end of interval range\n",
    " * num : No. of samples to generate. By default num = 50"
   ]
  },
  {
   "cell_type": "code",
   "execution_count": 11,
   "metadata": {
    "colab": {
     "base_uri": "https://localhost:8080/"
    },
    "executionInfo": {
     "elapsed": 9,
     "status": "ok",
     "timestamp": 1642504696517,
     "user": {
      "displayName": "Sambodhi Manna",
      "photoUrl": "https://lh3.googleusercontent.com/a-/AOh14GhVAU5TU_3l04MhfSwWQiPTQywnOMuHa5h1OMoR4g=s64",
      "userId": "10481347771371009651"
     },
     "user_tz": -330
    },
    "id": "AvnueiSGdhb7",
    "outputId": "ed687c40-ff45-48ee-ae15-f8e12c0c74df"
   },
   "outputs": [
    {
     "data": {
      "text/plain": [
       "array([0.        , 0.10204082, 0.20408163, 0.30612245, 0.40816327,\n",
       "       0.51020408, 0.6122449 , 0.71428571, 0.81632653, 0.91836735,\n",
       "       1.02040816, 1.12244898, 1.2244898 , 1.32653061, 1.42857143,\n",
       "       1.53061224, 1.63265306, 1.73469388, 1.83673469, 1.93877551,\n",
       "       2.04081633, 2.14285714, 2.24489796, 2.34693878, 2.44897959,\n",
       "       2.55102041, 2.65306122, 2.75510204, 2.85714286, 2.95918367,\n",
       "       3.06122449, 3.16326531, 3.26530612, 3.36734694, 3.46938776,\n",
       "       3.57142857, 3.67346939, 3.7755102 , 3.87755102, 3.97959184,\n",
       "       4.08163265, 4.18367347, 4.28571429, 4.3877551 , 4.48979592,\n",
       "       4.59183673, 4.69387755, 4.79591837, 4.89795918, 5.        ])"
      ]
     },
     "execution_count": 11,
     "metadata": {},
     "output_type": "execute_result"
    }
   ],
   "source": [
    "matrix2 = np.linspace(0,5) # by default 50 evenly spaced values will be generated between 0 and 5\n",
    "matrix2"
   ]
  },
  {
   "cell_type": "markdown",
   "metadata": {
    "id": "zR_AydpiBToe"
   },
   "source": [
    "**How are these values getting generated?**\n",
    "\n",
    "The step size or the difference between each element will be decided by the following formula:\n",
    "\n",
    "**(stop - start) / (total elements - 1)**\n",
    "\n",
    "So, in this case:\n",
    "(5 - 0) / 49 = 0.10204082\n",
    "\n",
    "The first value will be 0.10204082, the second value will be 0.10204082 + 0.10204082, the third value will be 0.10204082 + 0.10204082 +0.10204082, and so on."
   ]
  },
  {
   "cell_type": "code",
   "execution_count": 12,
   "metadata": {
    "colab": {
     "base_uri": "https://localhost:8080/"
    },
    "executionInfo": {
     "elapsed": 7,
     "status": "ok",
     "timestamp": 1642504696517,
     "user": {
      "displayName": "Sambodhi Manna",
      "photoUrl": "https://lh3.googleusercontent.com/a-/AOh14GhVAU5TU_3l04MhfSwWQiPTQywnOMuHa5h1OMoR4g=s64",
      "userId": "10481347771371009651"
     },
     "user_tz": -330
    },
    "id": "0VDGGmj2dhPp",
    "outputId": "303991a3-ef4c-4bf7-91d5-323ff14b8294"
   },
   "outputs": [
    {
     "data": {
      "text/plain": [
       "array([10.        , 11.11111111, 12.22222222, 13.33333333, 14.44444444,\n",
       "       15.55555556, 16.66666667, 17.77777778, 18.88888889, 20.        ])"
      ]
     },
     "execution_count": 12,
     "metadata": {},
     "output_type": "execute_result"
    }
   ],
   "source": [
    "# generating 10 evenly spaced values between 10 and 20\n",
    "matrix3 = np.linspace(10,20,10)\n",
    "matrix3"
   ]
  },
  {
   "cell_type": "markdown",
   "metadata": {
    "id": "8Nxn51w2dhEE"
   },
   "source": [
    "**Similarly we can create matrices using the functions available in NumPy library**"
   ]
  },
  {
   "cell_type": "markdown",
   "metadata": {
    "id": "x9brl-h9dg2b"
   },
   "source": [
    "**Using np.zeros()**\n",
    " \n",
    "* The np.zeros() is a function for creating a matrix and performing matrix operations in NumPy. \n",
    "* It returns a matrix filled with zeros of the given shape. \n",
    "* It has the following parameters:    \n",
    "  * shape : Number of rows and columns in the output matrix.\n",
    "  * dtype: data type of the elements in the matrix, by default the value is set to `float`."
   ]
  },
  {
   "cell_type": "code",
   "execution_count": 13,
   "metadata": {
    "colab": {
     "base_uri": "https://localhost:8080/"
    },
    "executionInfo": {
     "elapsed": 6,
     "status": "ok",
     "timestamp": 1642504696517,
     "user": {
      "displayName": "Sambodhi Manna",
      "photoUrl": "https://lh3.googleusercontent.com/a-/AOh14GhVAU5TU_3l04MhfSwWQiPTQywnOMuHa5h1OMoR4g=s64",
      "userId": "10481347771371009651"
     },
     "user_tz": -330
    },
    "id": "zcfKm8ENjNQv",
    "outputId": "e86a52e1-a4f1-453a-fe03-468ce348ad9b"
   },
   "outputs": [
    {
     "data": {
      "text/plain": [
       "array([[0., 0., 0., 0., 0.],\n",
       "       [0., 0., 0., 0., 0.],\n",
       "       [0., 0., 0., 0., 0.]])"
      ]
     },
     "execution_count": 13,
     "metadata": {},
     "output_type": "execute_result"
    }
   ],
   "source": [
    "matrix4 = np.zeros([3,5])\n",
    "matrix4 "
   ]
  },
  {
   "cell_type": "markdown",
   "metadata": {
    "id": "8jy4YykQjICK"
   },
   "source": [
    "**Using np.ones()**\n",
    "\n",
    "* The np.ones() is another function for creating a matrix and performing matrix operations in NumPy. \n",
    "* It returns a matrix of given shape and type, filled with ones.\n",
    "* It has the following parameters:  \n",
    "  * shape : Number of rows and columns in the output matrix.\n",
    "  * dtype: data type of the elements in the matrix, by default the value is set to `float`."
   ]
  },
  {
   "cell_type": "code",
   "execution_count": 14,
   "metadata": {
    "colab": {
     "base_uri": "https://localhost:8080/"
    },
    "executionInfo": {
     "elapsed": 693,
     "status": "ok",
     "timestamp": 1642504697205,
     "user": {
      "displayName": "Sambodhi Manna",
      "photoUrl": "https://lh3.googleusercontent.com/a-/AOh14GhVAU5TU_3l04MhfSwWQiPTQywnOMuHa5h1OMoR4g=s64",
      "userId": "10481347771371009651"
     },
     "user_tz": -330
    },
    "id": "JJ-hv5dcjRN1",
    "outputId": "4f16285b-d33e-4f77-cdc4-e9c566f44d99"
   },
   "outputs": [
    {
     "data": {
      "text/plain": [
       "array([[1., 1., 1., 1., 1.],\n",
       "       [1., 1., 1., 1., 1.],\n",
       "       [1., 1., 1., 1., 1.]])"
      ]
     },
     "execution_count": 14,
     "metadata": {},
     "output_type": "execute_result"
    }
   ],
   "source": [
    "matrix5 = np.ones([3,5])\n",
    "matrix5"
   ]
  },
  {
   "cell_type": "markdown",
   "metadata": {
    "id": "ge-0i4W2jH4S"
   },
   "source": [
    "**Using np.eye()**\n",
    "* The np.eye() is a function for creating a matrix and performing matrix operations in NumPy. \n",
    "* It returns a matrix with ones on the diagonal and zeros elsewhere. \n",
    "* It has the following parameters:\n",
    "  * n: Number of rows and columns in the output matrix \n",
    "  * dtype: data type of the elements in the matrix, by default the value is set to `float`."
   ]
  },
  {
   "cell_type": "code",
   "execution_count": 15,
   "metadata": {
    "colab": {
     "base_uri": "https://localhost:8080/"
    },
    "executionInfo": {
     "elapsed": 23,
     "status": "ok",
     "timestamp": 1642504697205,
     "user": {
      "displayName": "Sambodhi Manna",
      "photoUrl": "https://lh3.googleusercontent.com/a-/AOh14GhVAU5TU_3l04MhfSwWQiPTQywnOMuHa5h1OMoR4g=s64",
      "userId": "10481347771371009651"
     },
     "user_tz": -330
    },
    "id": "2a0_OXeWjHou",
    "outputId": "e00b985c-e2cd-43e4-c649-3da7625a9f96"
   },
   "outputs": [
    {
     "data": {
      "text/plain": [
       "array([[1., 0., 0., 0., 0.],\n",
       "       [0., 1., 0., 0., 0.],\n",
       "       [0., 0., 1., 0., 0.],\n",
       "       [0., 0., 0., 1., 0.],\n",
       "       [0., 0., 0., 0., 1.]])"
      ]
     },
     "execution_count": 15,
     "metadata": {},
     "output_type": "execute_result"
    }
   ],
   "source": [
    "matrix6 = np.eye(5)\n",
    "matrix6"
   ]
  },
  {
   "cell_type": "markdown",
   "metadata": {
    "id": "DkJp6gB1dgHl"
   },
   "source": [
    "**We can also convert a one dimension array to a matrix. This can be done by using the np.reshape() function.**"
   ]
  },
  {
   "cell_type": "markdown",
   "metadata": {
    "id": "ifxHtcyyuVsX"
   },
   "source": [
    "* The shape of an array basically tells the number of elements and dimensions of the array. Reshaping a Numpy array simply means changing the shape of the given array. \n",
    "* By reshaping an array we can add or remove dimensions or change number of elements in each dimension. \n",
    "* In order to reshape a NumPy array, we use the reshape method with the given array. \n",
    "* **Syntax:** array.reshape(shape) \n",
    "  * shape: a tuple given as input, the values in tuple will be the new shape of the array."
   ]
  },
  {
   "cell_type": "code",
   "execution_count": 20,
   "metadata": {
    "colab": {
     "base_uri": "https://localhost:8080/"
    },
    "executionInfo": {
     "elapsed": 20,
     "status": "ok",
     "timestamp": 1642504697205,
     "user": {
      "displayName": "Sambodhi Manna",
      "photoUrl": "https://lh3.googleusercontent.com/a-/AOh14GhVAU5TU_3l04MhfSwWQiPTQywnOMuHa5h1OMoR4g=s64",
      "userId": "10481347771371009651"
     },
     "user_tz": -330
    },
    "id": "iYbHCKdPk5hb",
    "outputId": "b6fb8719-1c5a-4202-e3ef-c7f28352d5c3"
   },
   "outputs": [
    {
     "data": {
      "text/plain": [
       "array([ 0,  1,  2,  3,  4,  5,  6,  7,  8,  9, 10, 11])"
      ]
     },
     "execution_count": 20,
     "metadata": {},
     "output_type": "execute_result"
    }
   ],
   "source": [
    "# defining an array with values 0 to 9\n",
    "arr4 = np.arange(0,12) \n",
    "arr4"
   ]
  },
  {
   "cell_type": "code",
   "execution_count": 15,
   "metadata": {
    "colab": {
     "base_uri": "https://localhost:8080/"
    },
    "executionInfo": {
     "elapsed": 19,
     "status": "ok",
     "timestamp": 1642504697206,
     "user": {
      "displayName": "Sambodhi Manna",
      "photoUrl": "https://lh3.googleusercontent.com/a-/AOh14GhVAU5TU_3l04MhfSwWQiPTQywnOMuHa5h1OMoR4g=s64",
      "userId": "10481347771371009651"
     },
     "user_tz": -330
    },
    "id": "SE6wnu1MlbXv",
    "outputId": "d23e61d1-ffa4-44dc-8d2e-bd340899ae4d"
   },
   "outputs": [
    {
     "data": {
      "text/plain": [
       "array([[0, 1, 2, 3, 4],\n",
       "       [5, 6, 7, 8, 9]])"
      ]
     },
     "execution_count": 15,
     "metadata": {},
     "output_type": "execute_result"
    }
   ],
   "source": [
    "# reshaping the array arr4 to a 2 x 5 matrix\n",
    "arr4_reshaped = arr4.reshape((2,5))\n",
    "arr4_reshaped"
   ]
  },
  {
   "cell_type": "code",
   "execution_count": 16,
   "metadata": {
    "colab": {
     "base_uri": "https://localhost:8080/"
    },
    "executionInfo": {
     "elapsed": 17,
     "status": "ok",
     "timestamp": 1642504697206,
     "user": {
      "displayName": "Sambodhi Manna",
      "photoUrl": "https://lh3.googleusercontent.com/a-/AOh14GhVAU5TU_3l04MhfSwWQiPTQywnOMuHa5h1OMoR4g=s64",
      "userId": "10481347771371009651"
     },
     "user_tz": -330
    },
    "id": "KbuGcnPLFT2m",
    "outputId": "444d05ca-6f44-4264-ff8f-4bcdaf9d93b1"
   },
   "outputs": [
    {
     "data": {
      "text/plain": [
       "array([0, 1, 2, 3, 4, 5, 6, 7, 8, 9])"
      ]
     },
     "execution_count": 16,
     "metadata": {},
     "output_type": "execute_result"
    }
   ],
   "source": [
    "arr4"
   ]
  },
  {
   "cell_type": "code",
   "execution_count": 21,
   "metadata": {
    "colab": {
     "base_uri": "https://localhost:8080/",
     "height": 183
    },
    "executionInfo": {
     "elapsed": 27,
     "status": "error",
     "timestamp": 1642504697218,
     "user": {
      "displayName": "Sambodhi Manna",
      "photoUrl": "https://lh3.googleusercontent.com/a-/AOh14GhVAU5TU_3l04MhfSwWQiPTQywnOMuHa5h1OMoR4g=s64",
      "userId": "10481347771371009651"
     },
     "user_tz": -330
    },
    "id": "HRqcE-TT_-dQ",
    "outputId": "2e319ae1-1b15-474d-a27a-4d1863fa3054"
   },
   "outputs": [
    {
     "data": {
      "text/plain": [
       "array([[ 0,  1,  2,  3,  4,  5],\n",
       "       [ 6,  7,  8,  9, 10, 11]])"
      ]
     },
     "execution_count": 21,
     "metadata": {},
     "output_type": "execute_result"
    }
   ],
   "source": [
    "# reshaping the array arr4 to a 2 x 6 matrix\n",
    "arr4.reshape((2,6))"
   ]
  },
  {
   "cell_type": "markdown",
   "metadata": {
    "id": "7DGMoYswCocf"
   },
   "source": [
    "* This did not work because we have 10 elements which we are trying to fit in a 2 X 6 shape which will require 12 elements."
   ]
  },
  {
   "cell_type": "markdown",
   "metadata": {
    "id": "lNd_TddVQtWI"
   },
   "source": [
    "**NumPy can also perform a large number of different mathematical operations and it provides different functions to do so.**\n",
    "\n",
    "NumPy provides:\n",
    "1. Trigonometric functions \n",
    "2. Exponents and Logarithmic functions\n",
    "3. Functions for arithmetic operations between arrays and matrices"
   ]
  },
  {
   "cell_type": "markdown",
   "metadata": {
    "id": "CE9wPRdYn5IB"
   },
   "source": [
    "**Trigonometric functions**"
   ]
  },
  {
   "cell_type": "code",
   "execution_count": 20,
   "metadata": {
    "colab": {
     "base_uri": "https://localhost:8080/"
    },
    "executionInfo": {
     "elapsed": 469,
     "status": "ok",
     "timestamp": 1642504715999,
     "user": {
      "displayName": "Sambodhi Manna",
      "photoUrl": "https://lh3.googleusercontent.com/a-/AOh14GhVAU5TU_3l04MhfSwWQiPTQywnOMuHa5h1OMoR4g=s64",
      "userId": "10481347771371009651"
     },
     "user_tz": -330
    },
    "id": "6iKAU71XQBXn",
    "outputId": "7ed5532f-51ff-42f4-b49d-410b239480b5"
   },
   "outputs": [
    {
     "name": "stdout",
     "output_type": "stream",
     "text": [
      "Sine Function: -0.7568024953079282\n",
      "Cosine Function: -0.6536436208636119\n",
      "Tan Function 1.1578212823495775\n"
     ]
    }
   ],
   "source": [
    "print('Sine Function:',np.sin(4))\n",
    "print('Cosine Function:',np.cos(4))\n",
    "print('Tan Function',np.tan(4))"
   ]
  },
  {
   "cell_type": "markdown",
   "metadata": {
    "id": "9QWy471mQEXT"
   },
   "source": [
    "**Exponents and Logarithmic functions**"
   ]
  },
  {
   "cell_type": "markdown",
   "metadata": {
    "id": "BBKFBoABoyRx"
   },
   "source": [
    "* Exponents"
   ]
  },
  {
   "cell_type": "code",
   "execution_count": 22,
   "metadata": {
    "colab": {
     "base_uri": "https://localhost:8080/"
    },
    "executionInfo": {
     "elapsed": 537,
     "status": "ok",
     "timestamp": 1642504721084,
     "user": {
      "displayName": "Sambodhi Manna",
      "photoUrl": "https://lh3.googleusercontent.com/a-/AOh14GhVAU5TU_3l04MhfSwWQiPTQywnOMuHa5h1OMoR4g=s64",
      "userId": "10481347771371009651"
     },
     "user_tz": -330
    },
    "id": "aanbLXltoDgt",
    "outputId": "8883cc67-41f4-49c7-f839-89faa4f744e0"
   },
   "outputs": [
    {
     "data": {
      "text/plain": [
       "7.38905609893065"
      ]
     },
     "execution_count": 22,
     "metadata": {},
     "output_type": "execute_result"
    }
   ],
   "source": [
    "np.exp(2)"
   ]
  },
  {
   "cell_type": "code",
   "execution_count": 25,
   "metadata": {
    "colab": {
     "base_uri": "https://localhost:8080/"
    },
    "executionInfo": {
     "elapsed": 4,
     "status": "ok",
     "timestamp": 1642504721911,
     "user": {
      "displayName": "Sambodhi Manna",
      "photoUrl": "https://lh3.googleusercontent.com/a-/AOh14GhVAU5TU_3l04MhfSwWQiPTQywnOMuHa5h1OMoR4g=s64",
      "userId": "10481347771371009651"
     },
     "user_tz": -330
    },
    "id": "9VUfgN_oomI7",
    "outputId": "1b8b17f2-aebf-4941-bb33-b795049f1a17"
   },
   "outputs": [
    {
     "data": {
      "text/plain": [
       "array([2, 4, 6])"
      ]
     },
     "execution_count": 25,
     "metadata": {},
     "output_type": "execute_result"
    }
   ],
   "source": [
    "arr5 = np.array([2,4,6])\n",
    "arr5"
   ]
  },
  {
   "cell_type": "code",
   "execution_count": 31,
   "metadata": {
    "colab": {
     "base_uri": "https://localhost:8080/"
    },
    "executionInfo": {
     "elapsed": 4,
     "status": "ok",
     "timestamp": 1642504721911,
     "user": {
      "displayName": "Sambodhi Manna",
      "photoUrl": "https://lh3.googleusercontent.com/a-/AOh14GhVAU5TU_3l04MhfSwWQiPTQywnOMuHa5h1OMoR4g=s64",
      "userId": "10481347771371009651"
     },
     "user_tz": -330
    },
    "id": "9VUfgN_oomI7",
    "outputId": "1b8b17f2-aebf-4941-bb33-b795049f1a17"
   },
   "outputs": [
    {
     "data": {
      "text/plain": [
       "array([  7.3890561 ,  54.59815003, 403.42879349])"
      ]
     },
     "execution_count": 31,
     "metadata": {},
     "output_type": "execute_result"
    }
   ],
   "source": [
    "np.exp(arr5)"
   ]
  },
  {
   "cell_type": "markdown",
   "metadata": {
    "id": "BgTCC-v6ouZn"
   },
   "source": [
    "* Logarithms"
   ]
  },
  {
   "cell_type": "code",
   "execution_count": 29,
   "metadata": {
    "colab": {
     "base_uri": "https://localhost:8080/"
    },
    "executionInfo": {
     "elapsed": 2,
     "status": "ok",
     "timestamp": 1642504724049,
     "user": {
      "displayName": "Sambodhi Manna",
      "photoUrl": "https://lh3.googleusercontent.com/a-/AOh14GhVAU5TU_3l04MhfSwWQiPTQywnOMuHa5h1OMoR4g=s64",
      "userId": "10481347771371009651"
     },
     "user_tz": -330
    },
    "id": "7V8RWfDipHOQ",
    "outputId": "cee02249-84ca-4cd3-ef70-87bab05609f0"
   },
   "outputs": [
    {
     "data": {
      "text/plain": [
       "0.6931471805599453"
      ]
     },
     "execution_count": 29,
     "metadata": {},
     "output_type": "execute_result"
    }
   ],
   "source": [
    "# by default NumPy takes the base of log as e\n",
    "np.log(2)"
   ]
  },
  {
   "cell_type": "code",
   "execution_count": 32,
   "metadata": {
    "colab": {
     "base_uri": "https://localhost:8080/"
    },
    "executionInfo": {
     "elapsed": 896,
     "status": "ok",
     "timestamp": 1642504727973,
     "user": {
      "displayName": "Sambodhi Manna",
      "photoUrl": "https://lh3.googleusercontent.com/a-/AOh14GhVAU5TU_3l04MhfSwWQiPTQywnOMuHa5h1OMoR4g=s64",
      "userId": "10481347771371009651"
     },
     "user_tz": -330
    },
    "id": "CH5eCec2pJLo",
    "outputId": "7631f4ad-2ca3-413b-c490-f6e40eacb574"
   },
   "outputs": [
    {
     "data": {
      "text/plain": [
       "array([0.69314718, 1.38629436, 1.79175947])"
      ]
     },
     "execution_count": 32,
     "metadata": {},
     "output_type": "execute_result"
    }
   ],
   "source": [
    "np.log(arr5)"
   ]
  },
  {
   "cell_type": "code",
   "execution_count": 33,
   "metadata": {
    "colab": {
     "base_uri": "https://localhost:8080/"
    },
    "executionInfo": {
     "elapsed": 2,
     "status": "ok",
     "timestamp": 1642504728863,
     "user": {
      "displayName": "Sambodhi Manna",
      "photoUrl": "https://lh3.googleusercontent.com/a-/AOh14GhVAU5TU_3l04MhfSwWQiPTQywnOMuHa5h1OMoR4g=s64",
      "userId": "10481347771371009651"
     },
     "user_tz": -330
    },
    "id": "bgam8aXTpOVc",
    "outputId": "e1c8dcce-9113-40ad-b8e3-0050d4f67070"
   },
   "outputs": [
    {
     "data": {
      "text/plain": [
       "0.9030899869919435"
      ]
     },
     "execution_count": 33,
     "metadata": {},
     "output_type": "execute_result"
    }
   ],
   "source": [
    "## log with base 10\n",
    "np.log10(8) "
   ]
  },
  {
   "cell_type": "markdown",
   "metadata": {
    "id": "jDCujvq0pWZr"
   },
   "source": [
    "**Arithmetic Operations on arrays**"
   ]
  },
  {
   "cell_type": "code",
   "execution_count": 35,
   "metadata": {
    "colab": {
     "base_uri": "https://localhost:8080/"
    },
    "executionInfo": {
     "elapsed": 4,
     "status": "ok",
     "timestamp": 1642504730478,
     "user": {
      "displayName": "Sambodhi Manna",
      "photoUrl": "https://lh3.googleusercontent.com/a-/AOh14GhVAU5TU_3l04MhfSwWQiPTQywnOMuHa5h1OMoR4g=s64",
      "userId": "10481347771371009651"
     },
     "user_tz": -330
    },
    "id": "SXFDL0TeKJZT",
    "outputId": "8ba21593-fb28-4923-dd8c-a0a245208c4b"
   },
   "outputs": [
    {
     "name": "stdout",
     "output_type": "stream",
     "text": [
      "[1, 2, 3, 4, 5, 6]\n"
     ]
    }
   ],
   "source": [
    "# arithmetic on lists\n",
    "\n",
    "l1 = [1,2,3]\n",
    "l2 = [4,5,6]\n",
    "print(l1+l2)\n",
    "# this does not behave as you would expect!\n"
   ]
  },
  {
   "cell_type": "code",
   "execution_count": 36,
   "metadata": {
    "colab": {
     "base_uri": "https://localhost:8080/"
    },
    "executionInfo": {
     "elapsed": 3,
     "status": "ok",
     "timestamp": 1642504733353,
     "user": {
      "displayName": "Sambodhi Manna",
      "photoUrl": "https://lh3.googleusercontent.com/a-/AOh14GhVAU5TU_3l04MhfSwWQiPTQywnOMuHa5h1OMoR4g=s64",
      "userId": "10481347771371009651"
     },
     "user_tz": -330
    },
    "id": "MHZKZFP8ppQx",
    "outputId": "89f988e6-27df-46c8-aeaf-199c9c8c9913"
   },
   "outputs": [
    {
     "name": "stdout",
     "output_type": "stream",
     "text": [
      "arr7: [1 2 3 4 5]\n",
      "arr8: [3 4 5 6 7]\n"
     ]
    }
   ],
   "source": [
    "# we can +-*/ arrays together\n",
    "\n",
    "# defining two arrays\n",
    "arr7 = np.arange(1,6)\n",
    "print('arr7:', arr7)\n",
    "\n",
    "arr8 = np.arange(3,8)\n",
    "print('arr8:', arr8)"
   ]
  },
  {
   "cell_type": "code",
   "execution_count": 37,
   "metadata": {
    "colab": {
     "base_uri": "https://localhost:8080/"
    },
    "executionInfo": {
     "elapsed": 820,
     "status": "ok",
     "timestamp": 1642504735451,
     "user": {
      "displayName": "Sambodhi Manna",
      "photoUrl": "https://lh3.googleusercontent.com/a-/AOh14GhVAU5TU_3l04MhfSwWQiPTQywnOMuHa5h1OMoR4g=s64",
      "userId": "10481347771371009651"
     },
     "user_tz": -330
    },
    "id": "xkMkQOL8rHOw",
    "outputId": "71778bf3-1a32-4d51-ea83-e1a072c2110a"
   },
   "outputs": [
    {
     "name": "stdout",
     "output_type": "stream",
     "text": [
      "Addition:  [ 4  6  8 10 12]\n",
      "Subtraction:  [2 2 2 2 2]\n",
      "Multiplication: [ 3  8 15 24 35]\n",
      "Division: [0.33333333 0.5        0.6        0.66666667 0.71428571]\n",
      "Inverse: [1.         0.5        0.33333333 0.25       0.2       ]\n",
      "Powers: [    1    16   243  4096 78125]\n"
     ]
    }
   ],
   "source": [
    "print('Addition: ',arr7+arr8)\n",
    "print('Subtraction: ',arr8-arr7)\n",
    "print('Multiplication:' , arr7*arr8)\n",
    "print('Division:', arr7/arr8)\n",
    "print('Inverse:', 1/arr7)\n",
    "print('Powers:', arr7**arr8) # in python, powers are achieved using **, NOT ^!!! ^ does something completely different!\n"
   ]
  },
  {
   "cell_type": "markdown",
   "metadata": {
    "id": "SrE8fcrFtt7c"
   },
   "source": [
    "**Operations on Matrices**"
   ]
  },
  {
   "cell_type": "code",
   "execution_count": 53,
   "metadata": {
    "colab": {
     "base_uri": "https://localhost:8080/"
    },
    "executionInfo": {
     "elapsed": 2,
     "status": "ok",
     "timestamp": 1642504738179,
     "user": {
      "displayName": "Sambodhi Manna",
      "photoUrl": "https://lh3.googleusercontent.com/a-/AOh14GhVAU5TU_3l04MhfSwWQiPTQywnOMuHa5h1OMoR4g=s64",
      "userId": "10481347771371009651"
     },
     "user_tz": -330
    },
    "id": "p-lZfDhUrb2b",
    "outputId": "58cb81dd-e798-4715-daa2-f47bf3a7dd4e"
   },
   "outputs": [
    {
     "name": "stdout",
     "output_type": "stream",
     "text": [
      "[[1 2 3]\n",
      " [4 5 6]\n",
      " [7 8 9]]\n",
      "[[1. 0. 0.]\n",
      " [0. 1. 0.]\n",
      " [0. 0. 1.]]\n"
     ]
    }
   ],
   "source": [
    "matrix7 = np.arange(1,10).reshape(3,3)\n",
    "print(matrix7)\n",
    "\n",
    "matrix8 = np.eye(3)\n",
    "print(matrix8)"
   ]
  },
  {
   "cell_type": "code",
   "execution_count": 54,
   "metadata": {
    "colab": {
     "base_uri": "https://localhost:8080/"
    },
    "executionInfo": {
     "elapsed": 3,
     "status": "ok",
     "timestamp": 1642504738865,
     "user": {
      "displayName": "Sambodhi Manna",
      "photoUrl": "https://lh3.googleusercontent.com/a-/AOh14GhVAU5TU_3l04MhfSwWQiPTQywnOMuHa5h1OMoR4g=s64",
      "userId": "10481347771371009651"
     },
     "user_tz": -330
    },
    "id": "VGBAxsUUtyts",
    "outputId": "99768955-63b8-4940-ea03-0daaf79995ad"
   },
   "outputs": [
    {
     "name": "stdout",
     "output_type": "stream",
     "text": [
      "Addition: \n",
      " [[ 2.  2.  3.]\n",
      " [ 4.  6.  6.]\n",
      " [ 7.  8. 10.]]\n",
      "Subtraction: \n",
      "  [[0. 2. 3.]\n",
      " [4. 4. 6.]\n",
      " [7. 8. 8.]]\n",
      "Multiplication: \n",
      " [[1. 0. 0.]\n",
      " [0. 5. 0.]\n",
      " [0. 0. 9.]]\n",
      "Division: \n",
      " [[ 1. inf inf]\n",
      " [inf  5. inf]\n",
      " [inf inf  9.]]\n"
     ]
    },
    {
     "name": "stderr",
     "output_type": "stream",
     "text": [
      "C:\\Users\\PRADHAN\\AppData\\Local\\Temp\\ipykernel_13424\\2604038799.py:4: RuntimeWarning: divide by zero encountered in divide\n",
      "  print('Division: \\n', matrix7/matrix8)\n"
     ]
    }
   ],
   "source": [
    "print('Addition: \\n', matrix7+matrix8)\n",
    "print('Subtraction: \\n ', matrix7-matrix8)\n",
    "print('Multiplication: \\n', matrix7*matrix8)\n",
    "print('Division: \\n', matrix7/matrix8)"
   ]
  },
  {
   "cell_type": "markdown",
   "metadata": {
    "id": "c7jHF8Od6mHH"
   },
   "source": [
    "* RuntimeWarning: Errors which occur during program execution(run-time) after successful compilation are called run-time errors. \n",
    "* One of the most common run-time error is division by zero also known as Division error. \n",
    "* Due to division by zero error, we are getting inf (infinity) values because 1/0 is not a defined operation."
   ]
  },
  {
   "cell_type": "markdown",
   "metadata": {
    "id": "3WYcA-OxyL9Y"
   },
   "source": [
    "**Linear algebra matrix multiplication**"
   ]
  },
  {
   "cell_type": "code",
   "execution_count": 55,
   "metadata": {
    "colab": {
     "base_uri": "https://localhost:8080/"
    },
    "executionInfo": {
     "elapsed": 910,
     "status": "ok",
     "timestamp": 1642504745454,
     "user": {
      "displayName": "Sambodhi Manna",
      "photoUrl": "https://lh3.googleusercontent.com/a-/AOh14GhVAU5TU_3l04MhfSwWQiPTQywnOMuHa5h1OMoR4g=s64",
      "userId": "10481347771371009651"
     },
     "user_tz": -330
    },
    "id": "nc0PAuG3sM6A",
    "outputId": "f46f8fbe-f1c4-4f78-b2a5-14923f47f15e"
   },
   "outputs": [
    {
     "name": "stdout",
     "output_type": "stream",
     "text": [
      "First Matrix: \n",
      " [[1 2 3]\n",
      " [4 5 6]\n",
      " [7 8 9]]\n",
      "Second Matrix: \n",
      " [[11 12 13]\n",
      " [14 15 16]\n",
      " [17 18 19]]\n",
      "\n",
      "Multiplication: \n",
      " [[ 90  96 102]\n",
      " [216 231 246]\n",
      " [342 366 390]]\n"
     ]
    }
   ],
   "source": [
    "matrix9 = np.arange(1,10).reshape(3,3)\n",
    "print('First Matrix: \\n',matrix9)\n",
    "\n",
    "matrix10 = np.arange(11,20).reshape(3,3)\n",
    "print('Second Matrix: \\n',matrix10)\n",
    "print('')\n",
    "# taking linear algebra matrix multiplication (some may have heard this called the dot product)\n",
    "print('Multiplication: \\n', matrix9 @ matrix10)"
   ]
  },
  {
   "cell_type": "markdown",
   "metadata": {
    "id": "LQVkMw7Iynfu"
   },
   "source": [
    "**Transpose of a matrix**"
   ]
  },
  {
   "cell_type": "code",
   "execution_count": 56,
   "metadata": {
    "colab": {
     "base_uri": "https://localhost:8080/"
    },
    "executionInfo": {
     "elapsed": 3,
     "status": "ok",
     "timestamp": 1642504746160,
     "user": {
      "displayName": "Sambodhi Manna",
      "photoUrl": "https://lh3.googleusercontent.com/a-/AOh14GhVAU5TU_3l04MhfSwWQiPTQywnOMuHa5h1OMoR4g=s64",
      "userId": "10481347771371009651"
     },
     "user_tz": -330
    },
    "id": "DJp3NtsrsSM4",
    "outputId": "fd48a9f1-8df5-4107-c1bf-e22449762ca9"
   },
   "outputs": [
    {
     "name": "stdout",
     "output_type": "stream",
     "text": [
      "[[1 2 3]\n",
      " [4 5 6]\n",
      " [7 8 9]]\n"
     ]
    }
   ],
   "source": [
    "print(matrix9)"
   ]
  },
  {
   "cell_type": "code",
   "execution_count": 57,
   "metadata": {
    "colab": {
     "base_uri": "https://localhost:8080/"
    },
    "executionInfo": {
     "elapsed": 676,
     "status": "ok",
     "timestamp": 1642504755392,
     "user": {
      "displayName": "Sambodhi Manna",
      "photoUrl": "https://lh3.googleusercontent.com/a-/AOh14GhVAU5TU_3l04MhfSwWQiPTQywnOMuHa5h1OMoR4g=s64",
      "userId": "10481347771371009651"
     },
     "user_tz": -330
    },
    "id": "MDKJgUlptKet",
    "outputId": "dd881d26-1c18-4f02-f625-70700fcd87f0"
   },
   "outputs": [
    {
     "data": {
      "text/plain": [
       "array([[1, 4, 7],\n",
       "       [2, 5, 8],\n",
       "       [3, 6, 9]])"
      ]
     },
     "execution_count": 57,
     "metadata": {},
     "output_type": "execute_result"
    }
   ],
   "source": [
    "# taking transpose of matrix\n",
    "np.transpose(matrix9)"
   ]
  },
  {
   "cell_type": "code",
   "execution_count": 58,
   "metadata": {
    "colab": {
     "base_uri": "https://localhost:8080/"
    },
    "executionInfo": {
     "elapsed": 4,
     "status": "ok",
     "timestamp": 1642504756113,
     "user": {
      "displayName": "Sambodhi Manna",
      "photoUrl": "https://lh3.googleusercontent.com/a-/AOh14GhVAU5TU_3l04MhfSwWQiPTQywnOMuHa5h1OMoR4g=s64",
      "userId": "10481347771371009651"
     },
     "user_tz": -330
    },
    "id": "PwwpvruatMRj",
    "outputId": "646eb5e9-d3ef-46f9-f101-6e26f8bcbf13"
   },
   "outputs": [
    {
     "data": {
      "text/plain": [
       "array([[1, 4, 7],\n",
       "       [2, 5, 8],\n",
       "       [3, 6, 9]])"
      ]
     },
     "execution_count": 58,
     "metadata": {},
     "output_type": "execute_result"
    }
   ],
   "source": [
    "# another way of taking a transpose\n",
    "matrix9.T"
   ]
  },
  {
   "cell_type": "markdown",
   "metadata": {
    "id": "YSl_vQk70bCS"
   },
   "source": [
    "**Function to find minimum and maximum values**"
   ]
  },
  {
   "cell_type": "code",
   "execution_count": 59,
   "metadata": {
    "colab": {
     "base_uri": "https://localhost:8080/"
    },
    "executionInfo": {
     "elapsed": 565,
     "status": "ok",
     "timestamp": 1642504758718,
     "user": {
      "displayName": "Sambodhi Manna",
      "photoUrl": "https://lh3.googleusercontent.com/a-/AOh14GhVAU5TU_3l04MhfSwWQiPTQywnOMuHa5h1OMoR4g=s64",
      "userId": "10481347771371009651"
     },
     "user_tz": -330
    },
    "id": "TmPZB7tu0a2c",
    "outputId": "50426f1b-06ab-43e2-ed59-1ae9051d4444"
   },
   "outputs": [
    {
     "name": "stdout",
     "output_type": "stream",
     "text": [
      "[[1 2 3]\n",
      " [4 5 6]\n",
      " [7 8 9]]\n"
     ]
    }
   ],
   "source": [
    "print(matrix9)"
   ]
  },
  {
   "cell_type": "code",
   "execution_count": 60,
   "metadata": {
    "colab": {
     "base_uri": "https://localhost:8080/"
    },
    "executionInfo": {
     "elapsed": 812,
     "status": "ok",
     "timestamp": 1642504762861,
     "user": {
      "displayName": "Sambodhi Manna",
      "photoUrl": "https://lh3.googleusercontent.com/a-/AOh14GhVAU5TU_3l04MhfSwWQiPTQywnOMuHa5h1OMoR4g=s64",
      "userId": "10481347771371009651"
     },
     "user_tz": -330
    },
    "id": "394LL_BZ0alr",
    "outputId": "6009567e-ba42-4e6e-997f-617ab52518c1"
   },
   "outputs": [
    {
     "name": "stdout",
     "output_type": "stream",
     "text": [
      "Minimum value:  1\n"
     ]
    }
   ],
   "source": [
    "print('Minimum value: ',np.min(matrix9))"
   ]
  },
  {
   "cell_type": "code",
   "execution_count": 61,
   "metadata": {
    "colab": {
     "base_uri": "https://localhost:8080/"
    },
    "executionInfo": {
     "elapsed": 2,
     "status": "ok",
     "timestamp": 1642504763687,
     "user": {
      "displayName": "Sambodhi Manna",
      "photoUrl": "https://lh3.googleusercontent.com/a-/AOh14GhVAU5TU_3l04MhfSwWQiPTQywnOMuHa5h1OMoR4g=s64",
      "userId": "10481347771371009651"
     },
     "user_tz": -330
    },
    "id": "SVs2Zx0J0ac3",
    "outputId": "c4f61e8e-1d1e-434e-8368-3ad23bcb2c34"
   },
   "outputs": [
    {
     "name": "stdout",
     "output_type": "stream",
     "text": [
      "Maximum value:  9\n"
     ]
    }
   ],
   "source": [
    "print('Maximum value: ',np.max(matrix9))"
   ]
  },
  {
   "cell_type": "markdown",
   "metadata": {
    "id": "7NNtvTmh0aRf"
   },
   "source": [
    "**Function to generate random samples**"
   ]
  },
  {
   "cell_type": "markdown",
   "metadata": {
    "id": "XO47Cq8L3Gb3"
   },
   "source": [
    "**Using np.random.rand function**\n",
    "\n",
    "* The np.random.rand returns a random NumPy array whose element(s) are drawn randomly from the normal distribution over [0,1). (including 0 but excluding 1). \n",
    "* **Syntax** - np.random.rand(d0,d1)\n",
    "  * d0,d1 – It represents the dimension of the required array given as int, where d1 is optional. "
   ]
  },
  {
   "cell_type": "code",
   "execution_count": 82,
   "metadata": {
    "colab": {
     "base_uri": "https://localhost:8080/"
    },
    "executionInfo": {
     "elapsed": 729,
     "status": "ok",
     "timestamp": 1642504769327,
     "user": {
      "displayName": "Sambodhi Manna",
      "photoUrl": "https://lh3.googleusercontent.com/a-/AOh14GhVAU5TU_3l04MhfSwWQiPTQywnOMuHa5h1OMoR4g=s64",
      "userId": "10481347771371009651"
     },
     "user_tz": -330
    },
    "id": "Neq3fBGH4N7F",
    "outputId": "3933a6a7-3c4f-4c93-b19d-91fb44fe87f2"
   },
   "outputs": [
    {
     "name": "stdout",
     "output_type": "stream",
     "text": [
      "0.2855461390413296\n"
     ]
    }
   ],
   "source": [
    "# Generating random values in an array\n",
    "#rand_mat = np.random.rand(5)\n",
    "\n",
    "rand_mat=np.random.rand(7,6)\n",
    "print(rand_mat.std())"
   ]
  },
  {
   "cell_type": "code",
   "execution_count": 83,
   "metadata": {
    "colab": {
     "base_uri": "https://localhost:8080/"
    },
    "executionInfo": {
     "elapsed": 1,
     "status": "ok",
     "timestamp": 1642504770059,
     "user": {
      "displayName": "Sambodhi Manna",
      "photoUrl": "https://lh3.googleusercontent.com/a-/AOh14GhVAU5TU_3l04MhfSwWQiPTQywnOMuHa5h1OMoR4g=s64",
      "userId": "10481347771371009651"
     },
     "user_tz": -330
    },
    "id": "QQHFrAce1570",
    "outputId": "1bc3c769-b05d-475c-ade7-05eb33632475"
   },
   "outputs": [
    {
     "name": "stdout",
     "output_type": "stream",
     "text": [
      "0.9878111967307643\n"
     ]
    }
   ],
   "source": [
    "#* Generating random values in a matrix\n",
    "rand_mat = np.random.randn(4,5) # uniform random variable\n",
    "print(rand_mat.std())"
   ]
  },
  {
   "cell_type": "markdown",
   "metadata": {
    "id": "VvvK-7Sh3PfD"
   },
   "source": [
    "**Using np.random.randn function**\n",
    "\n",
    "* The np.random.randn returns a random numpy array whose sample(s) are drawn randomly from the standard normal distribution (Mean as 0 and standard deviation as 1)\n",
    "\n",
    "* **Syntax** - np.random.randn(d0,d1)\n",
    "  * d0,d1 – It represents the dimension of the output, where d1 is optional."
   ]
  },
  {
   "cell_type": "code",
   "execution_count": 48,
   "metadata": {
    "colab": {
     "base_uri": "https://localhost:8080/"
    },
    "executionInfo": {
     "elapsed": 510,
     "status": "ok",
     "timestamp": 1642504775661,
     "user": {
      "displayName": "Sambodhi Manna",
      "photoUrl": "https://lh3.googleusercontent.com/a-/AOh14GhVAU5TU_3l04MhfSwWQiPTQywnOMuHa5h1OMoR4g=s64",
      "userId": "10481347771371009651"
     },
     "user_tz": -330
    },
    "id": "Ll_boKdQ4Y-b",
    "outputId": "b4195a86-a5f5-4e17-848b-bada1a698108"
   },
   "outputs": [
    {
     "name": "stdout",
     "output_type": "stream",
     "text": [
      "[ 0.06477375 -0.53922839 -1.47110508  0.75676896  1.37549728]\n"
     ]
    }
   ],
   "source": [
    "# Generating random values in an array\n",
    "rand_mat2 = np.random.randn(5) \n",
    "print(rand_mat2)"
   ]
  },
  {
   "cell_type": "code",
   "execution_count": 49,
   "metadata": {
    "colab": {
     "base_uri": "https://localhost:8080/"
    },
    "executionInfo": {
     "elapsed": 4,
     "status": "ok",
     "timestamp": 1642504776484,
     "user": {
      "displayName": "Sambodhi Manna",
      "photoUrl": "https://lh3.googleusercontent.com/a-/AOh14GhVAU5TU_3l04MhfSwWQiPTQywnOMuHa5h1OMoR4g=s64",
      "userId": "10481347771371009651"
     },
     "user_tz": -330
    },
    "id": "1jaiT-oZ2CyD",
    "outputId": "6bb4f523-aa82-48f4-b4bd-1bea33c3b456"
   },
   "outputs": [
    {
     "name": "stdout",
     "output_type": "stream",
     "text": [
      "[[ 1.3462165  -0.40364588 -0.14272123 -0.40290145  0.06916994]\n",
      " [ 1.04983185 -0.83174309  0.99038282  1.21404799  0.84758009]\n",
      " [-1.14416181  1.64715007 -0.43959756  0.69378652 -0.53366541]\n",
      " [-0.19452465  0.24475195  0.88573368  1.38612493 -0.5571788 ]\n",
      " [ 2.11404969 -0.77241982  1.4574579   1.90472222  1.59647747]]\n"
     ]
    }
   ],
   "source": [
    "# Generating random values in a matrix\n",
    "rand_mat2 = np.random.randn(5,5) \n",
    "print(rand_mat2)"
   ]
  },
  {
   "cell_type": "code",
   "execution_count": 50,
   "metadata": {
    "colab": {
     "base_uri": "https://localhost:8080/"
    },
    "executionInfo": {
     "elapsed": 677,
     "status": "ok",
     "timestamp": 1642504779355,
     "user": {
      "displayName": "Sambodhi Manna",
      "photoUrl": "https://lh3.googleusercontent.com/a-/AOh14GhVAU5TU_3l04MhfSwWQiPTQywnOMuHa5h1OMoR4g=s64",
      "userId": "10481347771371009651"
     },
     "user_tz": -330
    },
    "id": "TldcCrOS5ulV",
    "outputId": "204f9a63-428a-40d4-9958-27515b1f5cf6"
   },
   "outputs": [
    {
     "name": "stdout",
     "output_type": "stream",
     "text": [
      "Mean: 0.48099695645586427\n",
      "Standard Deviation: 0.9551596267077469\n"
     ]
    }
   ],
   "source": [
    "# Let's check the mean and standard deviation of rand_mat2\n",
    "print('Mean:',np.mean(rand_mat2))\n",
    "print('Standard Deviation:',np.std(rand_mat2))"
   ]
  },
  {
   "cell_type": "markdown",
   "metadata": {
    "id": "66BnHAPW6Ere"
   },
   "source": [
    "*  We observe that the mean is very close to 0 and standard deviation is very close to 1."
   ]
  },
  {
   "cell_type": "markdown",
   "metadata": {
    "id": "T_0yFxGh3U2D"
   },
   "source": [
    "**Using np.random.randint function**\n",
    "\n",
    "* The np.random.randint returns a random numpy array whose element(s) are drawn randomly from low (inclusive) to the high (exclusive) range. \n",
    "\n",
    "* **Syntax** - np.random.randint(low, high, size) \n",
    "\n",
    "  * low – It represents the lowest inclusive bound of the distribution from where the sample can be drawn.\n",
    "  * high – It represents the upper exclusive bound of the distribution from where the sample can be drawn. \n",
    "  * size – It represents the shape of the output. "
   ]
  },
  {
   "cell_type": "code",
   "execution_count": 87,
   "metadata": {
    "colab": {
     "base_uri": "https://localhost:8080/"
    },
    "executionInfo": {
     "elapsed": 450,
     "status": "ok",
     "timestamp": 1642504784583,
     "user": {
      "displayName": "Sambodhi Manna",
      "photoUrl": "https://lh3.googleusercontent.com/a-/AOh14GhVAU5TU_3l04MhfSwWQiPTQywnOMuHa5h1OMoR4g=s64",
      "userId": "10481347771371009651"
     },
     "user_tz": -330
    },
    "id": "vLPM7a0N2EHA",
    "outputId": "42a58d7c-4748-4211-a7be-6899c67d478b"
   },
   "outputs": [
    {
     "name": "stdout",
     "output_type": "stream",
     "text": [
      "[2 6 2 2 2 1 5 3 8 9]\n"
     ]
    }
   ],
   "source": [
    "# Generating random values in an array\n",
    "rand_mat3 = np.random.randint(1,10,10)\n",
    "print(rand_mat3)"
   ]
  },
  {
   "cell_type": "code",
   "execution_count": 44,
   "metadata": {
    "colab": {
     "base_uri": "https://localhost:8080/"
    },
    "executionInfo": {
     "elapsed": 2,
     "status": "ok",
     "timestamp": 1642504785510,
     "user": {
      "displayName": "Sambodhi Manna",
      "photoUrl": "https://lh3.googleusercontent.com/a-/AOh14GhVAU5TU_3l04MhfSwWQiPTQywnOMuHa5h1OMoR4g=s64",
      "userId": "10481347771371009651"
     },
     "user_tz": -330
    },
    "id": "u9YqKltk486n",
    "outputId": "c772a7a9-627e-43c1-fd89-e2b3c13a4f3f"
   },
   "outputs": [
    {
     "name": "stdout",
     "output_type": "stream",
     "text": [
      "[[2 8 7 2 5]\n",
      " [2 2 9 6 8]\n",
      " [3 6 6 4 6]\n",
      " [3 7 6 7 6]\n",
      " [2 7 3 6 8]]\n"
     ]
    }
   ],
   "source": [
    "# Generating random values in a matrix\n",
    "rand_mat3 = np.random.randint(1,10,[5,5])\n",
    "print(rand_mat3)"
   ]
  },
  {
   "cell_type": "markdown",
   "metadata": {
    "id": "J-K_ecWJ6M6n"
   },
   "source": [
    "### 2.3 Accessing the entries of a Numpy Array"
   ]
  },
  {
   "cell_type": "code",
   "execution_count": 45,
   "metadata": {
    "colab": {
     "base_uri": "https://localhost:8080/"
    },
    "executionInfo": {
     "elapsed": 821,
     "status": "ok",
     "timestamp": 1642504791331,
     "user": {
      "displayName": "Sambodhi Manna",
      "photoUrl": "https://lh3.googleusercontent.com/a-/AOh14GhVAU5TU_3l04MhfSwWQiPTQywnOMuHa5h1OMoR4g=s64",
      "userId": "10481347771371009651"
     },
     "user_tz": -330
    },
    "id": "4Tiy6KJw3a5A",
    "outputId": "0602a216-dff1-49da-ca1e-f10619d47fbf"
   },
   "outputs": [
    {
     "name": "stdout",
     "output_type": "stream",
     "text": [
      "[-2.04194609  0.45031706 -0.02019619  1.40439998  0.27655997  0.78027138\n",
      " -0.95580464  0.05992533  0.16359666  0.19479355]\n"
     ]
    }
   ],
   "source": [
    "# let's generate an array with 10 random values\n",
    "rand_arr = np.random.randn(10)\n",
    "print(rand_arr)"
   ]
  },
  {
   "cell_type": "markdown",
   "metadata": {
    "id": "gJlNtFKwaZUv"
   },
   "source": [
    "* Accessing one element from an array"
   ]
  },
  {
   "cell_type": "code",
   "execution_count": 46,
   "metadata": {
    "colab": {
     "base_uri": "https://localhost:8080/"
    },
    "executionInfo": {
     "elapsed": 3,
     "status": "ok",
     "timestamp": 1642504792163,
     "user": {
      "displayName": "Sambodhi Manna",
      "photoUrl": "https://lh3.googleusercontent.com/a-/AOh14GhVAU5TU_3l04MhfSwWQiPTQywnOMuHa5h1OMoR4g=s64",
      "userId": "10481347771371009651"
     },
     "user_tz": -330
    },
    "id": "PtSqbI-Y3awc",
    "outputId": "a678e312-bfb1-47ed-fa20-4dc79b2eb5a6"
   },
   "outputs": [
    {
     "name": "stdout",
     "output_type": "stream",
     "text": [
      "-0.9558046380845322\n"
     ]
    }
   ],
   "source": [
    "# accessing the 6 th entry of rand_arr\n",
    "print(rand_arr[6])"
   ]
  },
  {
   "cell_type": "markdown",
   "metadata": {
    "id": "Ywt2eQx-aZUv"
   },
   "source": [
    "* Accessing multiple elements from an array"
   ]
  },
  {
   "cell_type": "code",
   "execution_count": 47,
   "metadata": {
    "colab": {
     "base_uri": "https://localhost:8080/"
    },
    "executionInfo": {
     "elapsed": 468,
     "status": "ok",
     "timestamp": 1642504796918,
     "user": {
      "displayName": "Sambodhi Manna",
      "photoUrl": "https://lh3.googleusercontent.com/a-/AOh14GhVAU5TU_3l04MhfSwWQiPTQywnOMuHa5h1OMoR4g=s64",
      "userId": "10481347771371009651"
     },
     "user_tz": -330
    },
    "id": "HZ8Yb_3h3amG",
    "outputId": "ef2eec62-c36d-47fe-a0d2-5930948027ee"
   },
   "outputs": [
    {
     "name": "stdout",
     "output_type": "stream",
     "text": [
      "[ 0.27655997  0.78027138 -0.95580464  0.05992533  0.16359666]\n"
     ]
    }
   ],
   "source": [
    "# we can access multiple entries at once using\n",
    "print(rand_arr[4:9])"
   ]
  },
  {
   "cell_type": "code",
   "execution_count": 88,
   "metadata": {
    "colab": {
     "base_uri": "https://localhost:8080/"
    },
    "executionInfo": {
     "elapsed": 2,
     "status": "ok",
     "timestamp": 1642504797664,
     "user": {
      "displayName": "Sambodhi Manna",
      "photoUrl": "https://lh3.googleusercontent.com/a-/AOh14GhVAU5TU_3l04MhfSwWQiPTQywnOMuHa5h1OMoR4g=s64",
      "userId": "10481347771371009651"
     },
     "user_tz": -330
    },
    "id": "pNcRsFbK3aZP",
    "outputId": "3cd1f4dd-bef3-4512-dae1-9e45748874c3"
   },
   "outputs": [
    {
     "name": "stdout",
     "output_type": "stream",
     "text": [
      "Index of values to access:  [3 6 9]\n"
     ]
    }
   ],
   "source": [
    "# we can also access multiple non-consecutive entries using np.arange\n",
    "print('Index of values to access: ',np.arange(3,10,3))"
   ]
  },
  {
   "cell_type": "code",
   "execution_count": 48,
   "metadata": {
    "colab": {
     "base_uri": "https://localhost:8080/"
    },
    "executionInfo": {
     "elapsed": 2,
     "status": "ok",
     "timestamp": 1642504797664,
     "user": {
      "displayName": "Sambodhi Manna",
      "photoUrl": "https://lh3.googleusercontent.com/a-/AOh14GhVAU5TU_3l04MhfSwWQiPTQywnOMuHa5h1OMoR4g=s64",
      "userId": "10481347771371009651"
     },
     "user_tz": -330
    },
    "id": "pNcRsFbK3aZP",
    "outputId": "3cd1f4dd-bef3-4512-dae1-9e45748874c3"
   },
   "outputs": [
    {
     "name": "stdout",
     "output_type": "stream",
     "text": [
      "Index of values to access:  [3 6 9]\n",
      "[ 1.40439998 -0.95580464  0.19479355]\n"
     ]
    }
   ],
   "source": [
    "print(rand_arr[np.arange(3,10,3)])"
   ]
  },
  {
   "cell_type": "markdown",
   "metadata": {
    "id": "m0_dOkPKc7bL"
   },
   "source": [
    "**Accessing arrays using logical operations**"
   ]
  },
  {
   "cell_type": "code",
   "execution_count": 49,
   "metadata": {
    "colab": {
     "base_uri": "https://localhost:8080/"
    },
    "executionInfo": {
     "elapsed": 685,
     "status": "ok",
     "timestamp": 1642504804413,
     "user": {
      "displayName": "Sambodhi Manna",
      "photoUrl": "https://lh3.googleusercontent.com/a-/AOh14GhVAU5TU_3l04MhfSwWQiPTQywnOMuHa5h1OMoR4g=s64",
      "userId": "10481347771371009651"
     },
     "user_tz": -330
    },
    "id": "_8v77EwOcwPM",
    "outputId": "db3a4559-0341-4c14-88b8-9f5ee9895307"
   },
   "outputs": [
    {
     "name": "stdout",
     "output_type": "stream",
     "text": [
      "[-2.04194609  0.45031706 -0.02019619  1.40439998  0.27655997  0.78027138\n",
      " -0.95580464  0.05992533  0.16359666  0.19479355]\n"
     ]
    }
   ],
   "source": [
    "print(rand_arr)"
   ]
  },
  {
   "cell_type": "code",
   "execution_count": 50,
   "metadata": {
    "colab": {
     "base_uri": "https://localhost:8080/"
    },
    "executionInfo": {
     "elapsed": 4,
     "status": "ok",
     "timestamp": 1642504805219,
     "user": {
      "displayName": "Sambodhi Manna",
      "photoUrl": "https://lh3.googleusercontent.com/a-/AOh14GhVAU5TU_3l04MhfSwWQiPTQywnOMuHa5h1OMoR4g=s64",
      "userId": "10481347771371009651"
     },
     "user_tz": -330
    },
    "id": "u7QvbkGfc_Mf",
    "outputId": "1f5bc751-56b8-4136-e367-a000ddc3c52e"
   },
   "outputs": [
    {
     "data": {
      "text/plain": [
       "array([False,  True, False,  True,  True,  True, False,  True,  True,\n",
       "        True])"
      ]
     },
     "execution_count": 50,
     "metadata": {},
     "output_type": "execute_result"
    }
   ],
   "source": [
    "rand_arr>0"
   ]
  },
  {
   "cell_type": "code",
   "execution_count": 51,
   "metadata": {
    "colab": {
     "base_uri": "https://localhost:8080/"
    },
    "executionInfo": {
     "elapsed": 3,
     "status": "ok",
     "timestamp": 1642504806293,
     "user": {
      "displayName": "Sambodhi Manna",
      "photoUrl": "https://lh3.googleusercontent.com/a-/AOh14GhVAU5TU_3l04MhfSwWQiPTQywnOMuHa5h1OMoR4g=s64",
      "userId": "10481347771371009651"
     },
     "user_tz": -330
    },
    "id": "PwjFRjDiczAS",
    "outputId": "a9a001b6-55ae-47a6-b9ec-7deaab385d7c"
   },
   "outputs": [
    {
     "name": "stdout",
     "output_type": "stream",
     "text": [
      "Values greater than 0:  [0.45031706 1.40439998 0.27655997 0.78027138 0.05992533 0.16359666\n",
      " 0.19479355]\n",
      "Values less than 0:  [-2.04194609 -0.02019619 -0.95580464]\n"
     ]
    }
   ],
   "source": [
    "# accessing all the values of rand_arr which are greater than 0\n",
    "print('Values greater than 0: ',rand_arr[rand_arr>0])\n",
    "\n",
    "# accessing all the values of rand_arr which are less than 0\n",
    "print('Values less than 0: ',rand_arr[rand_arr<0])"
   ]
  },
  {
   "cell_type": "markdown",
   "metadata": {
    "id": "9j2nb_lX3aKJ"
   },
   "source": [
    "**Accessing the entries of a Matrix**"
   ]
  },
  {
   "cell_type": "code",
   "execution_count": 89,
   "metadata": {
    "colab": {
     "base_uri": "https://localhost:8080/"
    },
    "executionInfo": {
     "elapsed": 770,
     "status": "ok",
     "timestamp": 1642504814063,
     "user": {
      "displayName": "Sambodhi Manna",
      "photoUrl": "https://lh3.googleusercontent.com/a-/AOh14GhVAU5TU_3l04MhfSwWQiPTQywnOMuHa5h1OMoR4g=s64",
      "userId": "10481347771371009651"
     },
     "user_tz": -330
    },
    "id": "rUT3MtuX3Z-o",
    "outputId": "abe2daf7-8f4f-4646-f004-2954e0031910"
   },
   "outputs": [
    {
     "name": "stdout",
     "output_type": "stream",
     "text": [
      "[[ 0.9812521   1.26753179  1.33639219  1.40796978 -1.20066163]\n",
      " [-1.25693669 -0.28271969 -2.27356147 -1.23356498  1.93833187]\n",
      " [-0.57506437 -0.93205768  1.09137042  1.14550958  0.05543999]\n",
      " [-0.28013137  1.43736011 -0.61332819 -2.14910851 -0.40169385]\n",
      " [ 0.0129445   1.04071212  1.11554651 -1.74796144  1.2514462 ]]\n"
     ]
    }
   ],
   "source": [
    "# let's generate an array with 10 random values\n",
    "rand_mat = np.random.randn(5,5)\n",
    "print(rand_mat)"
   ]
  },
  {
   "cell_type": "code",
   "execution_count": 90,
   "metadata": {
    "colab": {
     "base_uri": "https://localhost:8080/"
    },
    "executionInfo": {
     "elapsed": 3,
     "status": "ok",
     "timestamp": 1642504814781,
     "user": {
      "displayName": "Sambodhi Manna",
      "photoUrl": "https://lh3.googleusercontent.com/a-/AOh14GhVAU5TU_3l04MhfSwWQiPTQywnOMuHa5h1OMoR4g=s64",
      "userId": "10481347771371009651"
     },
     "user_tz": -330
    },
    "id": "aH5KNWYJ8AAi",
    "outputId": "9a201eaf-ed5c-455c-d5f3-6d63df0ab78f"
   },
   "outputs": [
    {
     "data": {
      "text/plain": [
       "array([-1.25693669, -0.28271969, -2.27356147, -1.23356498,  1.93833187])"
      ]
     },
     "execution_count": 90,
     "metadata": {},
     "output_type": "execute_result"
    }
   ],
   "source": [
    "# acessing the second row of the rand_mat\n",
    "rand_mat[1]"
   ]
  },
  {
   "cell_type": "code",
   "execution_count": 54,
   "metadata": {
    "colab": {
     "base_uri": "https://localhost:8080/"
    },
    "executionInfo": {
     "elapsed": 787,
     "status": "ok",
     "timestamp": 1642504821228,
     "user": {
      "displayName": "Sambodhi Manna",
      "photoUrl": "https://lh3.googleusercontent.com/a-/AOh14GhVAU5TU_3l04MhfSwWQiPTQywnOMuHa5h1OMoR4g=s64",
      "userId": "10481347771371009651"
     },
     "user_tz": -330
    },
    "id": "cKPauEeS3Zya",
    "outputId": "1323af06-b410-47a4-a2c2-44d8a52eae3c"
   },
   "outputs": [
    {
     "name": "stdout",
     "output_type": "stream",
     "text": [
      "-0.7816439206526197\n",
      "-0.7816439206526197\n"
     ]
    }
   ],
   "source": [
    "# acessing third element of the second row\n",
    "print(rand_mat[1][2])\n",
    "\n",
    "#or \n",
    "\n",
    "print(rand_mat[1,2])"
   ]
  },
  {
   "cell_type": "code",
   "execution_count": 55,
   "metadata": {
    "colab": {
     "base_uri": "https://localhost:8080/"
    },
    "executionInfo": {
     "elapsed": 4,
     "status": "ok",
     "timestamp": 1642504822060,
     "user": {
      "displayName": "Sambodhi Manna",
      "photoUrl": "https://lh3.googleusercontent.com/a-/AOh14GhVAU5TU_3l04MhfSwWQiPTQywnOMuHa5h1OMoR4g=s64",
      "userId": "10481347771371009651"
     },
     "user_tz": -330
    },
    "id": "md90xMiX3ZhX",
    "outputId": "bee1f6fc-b7d5-4764-a9a1-607a396b3ad2"
   },
   "outputs": [
    {
     "name": "stdout",
     "output_type": "stream",
     "text": [
      "[[ 0.40461613  0.15462686]\n",
      " [ 1.42640496 -0.78164392]]\n"
     ]
    }
   ],
   "source": [
    "# accessing first two rows with second and third column \n",
    "print(rand_mat[0:2,1:3])"
   ]
  },
  {
   "cell_type": "markdown",
   "metadata": {
    "id": "ZQIPaCTxdTkx"
   },
   "source": [
    "**Accessing matrices using logical operations**"
   ]
  },
  {
   "cell_type": "code",
   "execution_count": 56,
   "metadata": {
    "colab": {
     "base_uri": "https://localhost:8080/"
    },
    "executionInfo": {
     "elapsed": 926,
     "status": "ok",
     "timestamp": 1642504826943,
     "user": {
      "displayName": "Sambodhi Manna",
      "photoUrl": "https://lh3.googleusercontent.com/a-/AOh14GhVAU5TU_3l04MhfSwWQiPTQywnOMuHa5h1OMoR4g=s64",
      "userId": "10481347771371009651"
     },
     "user_tz": -330
    },
    "id": "FPWAgqcMdTkx",
    "outputId": "2be55c17-c40a-4cc8-9f2c-2531fadf2815"
   },
   "outputs": [
    {
     "name": "stdout",
     "output_type": "stream",
     "text": [
      "[[ 0.3357453   0.40461613  0.15462686  0.65122411 -0.97233248]\n",
      " [ 0.28322083  1.42640496 -0.78164392  0.0784663   0.54934505]\n",
      " [ 1.46738006 -0.79178691 -1.11833119 -0.14649231  1.24301   ]\n",
      " [ 0.45492561  0.96630705 -0.59473249 -1.08439922 -0.44078568]\n",
      " [-0.2954792   0.82300024  1.64248843  0.10615033  0.80220448]]\n"
     ]
    }
   ],
   "source": [
    "print(rand_mat)"
   ]
  },
  {
   "cell_type": "code",
   "execution_count": 57,
   "metadata": {
    "colab": {
     "base_uri": "https://localhost:8080/"
    },
    "executionInfo": {
     "elapsed": 3,
     "status": "ok",
     "timestamp": 1642504827704,
     "user": {
      "displayName": "Sambodhi Manna",
      "photoUrl": "https://lh3.googleusercontent.com/a-/AOh14GhVAU5TU_3l04MhfSwWQiPTQywnOMuHa5h1OMoR4g=s64",
      "userId": "10481347771371009651"
     },
     "user_tz": -330
    },
    "id": "5pBwxeo_dTky",
    "outputId": "ff8dbc14-6543-49ed-99db-21568fedc613"
   },
   "outputs": [
    {
     "name": "stdout",
     "output_type": "stream",
     "text": [
      "Values greater than 0: \n",
      "  [0.3357453  0.40461613 0.15462686 0.65122411 0.28322083 1.42640496\n",
      " 0.0784663  0.54934505 1.46738006 1.24301    0.45492561 0.96630705\n",
      " 0.82300024 1.64248843 0.10615033 0.80220448]\n",
      "Values less than 0: \n",
      " [-0.97233248 -0.78164392 -0.79178691 -1.11833119 -0.14649231 -0.59473249\n",
      " -1.08439922 -0.44078568 -0.2954792 ]\n"
     ]
    }
   ],
   "source": [
    "# accessing all the values of rand_mat which are greater than 0\n",
    "print('Values greater than 0: \\n ',rand_mat[rand_mat>0])\n",
    "\n",
    "# accessing all the values of rand_mat which are less than 0\n",
    "print('Values less than 0: \\n',rand_mat[rand_mat<0])"
   ]
  },
  {
   "cell_type": "markdown",
   "metadata": {
    "id": "Rbc_yo5T8mmS"
   },
   "source": [
    "**Modifying the entries of an Array**"
   ]
  },
  {
   "cell_type": "code",
   "execution_count": 58,
   "metadata": {
    "colab": {
     "base_uri": "https://localhost:8080/"
    },
    "executionInfo": {
     "elapsed": 3,
     "status": "ok",
     "timestamp": 1642504828431,
     "user": {
      "displayName": "Sambodhi Manna",
      "photoUrl": "https://lh3.googleusercontent.com/a-/AOh14GhVAU5TU_3l04MhfSwWQiPTQywnOMuHa5h1OMoR4g=s64",
      "userId": "10481347771371009651"
     },
     "user_tz": -330
    },
    "id": "2P57NUFJ8mMA",
    "outputId": "94eac042-2a2c-4255-be88-e6a246824a36"
   },
   "outputs": [
    {
     "name": "stdout",
     "output_type": "stream",
     "text": [
      "[-2.04194609  0.45031706 -0.02019619  1.40439998  0.27655997  0.78027138\n",
      " -0.95580464  0.05992533  0.16359666  0.19479355]\n"
     ]
    }
   ],
   "source": [
    "print(rand_arr)\n"
   ]
  },
  {
   "cell_type": "code",
   "execution_count": 59,
   "metadata": {
    "colab": {
     "base_uri": "https://localhost:8080/"
    },
    "executionInfo": {
     "elapsed": 780,
     "status": "ok",
     "timestamp": 1642504833910,
     "user": {
      "displayName": "Sambodhi Manna",
      "photoUrl": "https://lh3.googleusercontent.com/a-/AOh14GhVAU5TU_3l04MhfSwWQiPTQywnOMuHa5h1OMoR4g=s64",
      "userId": "10481347771371009651"
     },
     "user_tz": -330
    },
    "id": "5dTfDf2d-DF7",
    "outputId": "40b85c5a-9be6-4fcd-dd4e-b52453b95968"
   },
   "outputs": [
    {
     "name": "stdout",
     "output_type": "stream",
     "text": [
      "[-2.04194609  0.45031706 -0.02019619  5.          5.          0.78027138\n",
      " -0.95580464  0.05992533  0.16359666  0.19479355]\n"
     ]
    }
   ],
   "source": [
    "# let's change some values in an array!\n",
    "# changing the values of index value 3 and index value 4 to 5\n",
    "rand_arr[3:5] = 5\n",
    "print(rand_arr)"
   ]
  },
  {
   "cell_type": "code",
   "execution_count": 60,
   "metadata": {
    "colab": {
     "base_uri": "https://localhost:8080/"
    },
    "executionInfo": {
     "elapsed": 4,
     "status": "ok",
     "timestamp": 1642504834774,
     "user": {
      "displayName": "Sambodhi Manna",
      "photoUrl": "https://lh3.googleusercontent.com/a-/AOh14GhVAU5TU_3l04MhfSwWQiPTQywnOMuHa5h1OMoR4g=s64",
      "userId": "10481347771371009651"
     },
     "user_tz": -330
    },
    "id": "dC1yVJLT-H9H",
    "outputId": "a654a2bc-db5e-4312-e88a-e523914508f3"
   },
   "outputs": [
    {
     "name": "stdout",
     "output_type": "stream",
     "text": [
      "[ 2.          3.         -0.02019619  5.          5.          0.78027138\n",
      " -0.95580464  0.05992533  0.16359666  0.19479355]\n"
     ]
    }
   ],
   "source": [
    "# changing the values of index value 0 and index value 1 to 2 and 3 respectively\n",
    "rand_arr[0:2] = [2,3]\n",
    "print(rand_arr)"
   ]
  },
  {
   "cell_type": "code",
   "execution_count": 61,
   "metadata": {
    "colab": {
     "base_uri": "https://localhost:8080/"
    },
    "executionInfo": {
     "elapsed": 19,
     "status": "ok",
     "timestamp": 1642504838554,
     "user": {
      "displayName": "Sambodhi Manna",
      "photoUrl": "https://lh3.googleusercontent.com/a-/AOh14GhVAU5TU_3l04MhfSwWQiPTQywnOMuHa5h1OMoR4g=s64",
      "userId": "10481347771371009651"
     },
     "user_tz": -330
    },
    "id": "wT3ishttMugE",
    "outputId": "670542e9-c104-406b-9144-ac53d6bfeb15"
   },
   "outputs": [
    {
     "data": {
      "text/plain": [
       "array([ 6.50000000e+01,  6.50000000e+01, -2.01961913e-02,  6.50000000e+01,\n",
       "        6.50000000e+01,  6.50000000e+01, -9.55804638e-01,  6.50000000e+01,\n",
       "        6.50000000e+01,  6.50000000e+01])"
      ]
     },
     "execution_count": 61,
     "metadata": {},
     "output_type": "execute_result"
    }
   ],
   "source": [
    "# modify entries using logical references\n",
    "rand_arr[rand_arr>0] = 65\n",
    "rand_arr"
   ]
  },
  {
   "cell_type": "markdown",
   "metadata": {
    "id": "lhoMit_Da8F4"
   },
   "source": [
    "**Modifying the entries of a Matrix**"
   ]
  },
  {
   "cell_type": "code",
   "execution_count": 62,
   "metadata": {
    "colab": {
     "base_uri": "https://localhost:8080/"
    },
    "executionInfo": {
     "elapsed": 757,
     "status": "ok",
     "timestamp": 1642504846751,
     "user": {
      "displayName": "Sambodhi Manna",
      "photoUrl": "https://lh3.googleusercontent.com/a-/AOh14GhVAU5TU_3l04MhfSwWQiPTQywnOMuHa5h1OMoR4g=s64",
      "userId": "10481347771371009651"
     },
     "user_tz": -330
    },
    "id": "fJ02uz8obsqC",
    "outputId": "e79f70bd-88d0-4697-96f5-ae6cd722f943"
   },
   "outputs": [
    {
     "name": "stdout",
     "output_type": "stream",
     "text": [
      "[[2 8 7 2 5]\n",
      " [2 2 9 6 8]\n",
      " [3 6 6 4 6]\n",
      " [3 7 6 7 6]\n",
      " [2 7 3 6 8]]\n"
     ]
    }
   ],
   "source": [
    "print(rand_mat3)"
   ]
  },
  {
   "cell_type": "code",
   "execution_count": 63,
   "metadata": {
    "colab": {
     "base_uri": "https://localhost:8080/"
    },
    "executionInfo": {
     "elapsed": 3,
     "status": "ok",
     "timestamp": 1642504847656,
     "user": {
      "displayName": "Sambodhi Manna",
      "photoUrl": "https://lh3.googleusercontent.com/a-/AOh14GhVAU5TU_3l04MhfSwWQiPTQywnOMuHa5h1OMoR4g=s64",
      "userId": "10481347771371009651"
     },
     "user_tz": -330
    },
    "id": "dVNbm4oKNtkr",
    "outputId": "10ab0f64-6d47-4152-96c6-6fe31d2439af"
   },
   "outputs": [
    {
     "name": "stdout",
     "output_type": "stream",
     "text": [
      "Matrix before modification: \n",
      " [[2 8 7 2 5]\n",
      " [2 2 9 6 8]\n",
      " [3 6 6 4 6]\n",
      " [3 7 6 7 6]\n",
      " [2 7 3 6 8]]\n",
      "Matrix after modification: \n",
      " [[2 8 7 2 5]\n",
      " [2 2 9 0 0]\n",
      " [3 6 6 0 0]\n",
      " [3 7 6 7 6]\n",
      " [2 7 3 6 8]]\n"
     ]
    }
   ],
   "source": [
    "# changing the values of the 4th and 5th element of the second and third rows of the matrix to 0\n",
    "print('Matrix before modification: \\n',rand_mat3)\n",
    "rand_mat3[1:3,3:5] = 0\n",
    "print('Matrix after modification: \\n',rand_mat3)"
   ]
  },
  {
   "cell_type": "code",
   "execution_count": 64,
   "metadata": {
    "colab": {
     "base_uri": "https://localhost:8080/"
    },
    "executionInfo": {
     "elapsed": 474,
     "status": "ok",
     "timestamp": 1642504853857,
     "user": {
      "displayName": "Sambodhi Manna",
      "photoUrl": "https://lh3.googleusercontent.com/a-/AOh14GhVAU5TU_3l04MhfSwWQiPTQywnOMuHa5h1OMoR4g=s64",
      "userId": "10481347771371009651"
     },
     "user_tz": -330
    },
    "id": "uP3butowNtvp",
    "outputId": "a6b986aa-3e78-4b3e-9317-2fd825f188e8"
   },
   "outputs": [
    {
     "name": "stdout",
     "output_type": "stream",
     "text": [
      "[[ 0.3357453   0.40461613  0.15462686]\n",
      " [ 0.28322083  1.42640496 -0.78164392]]\n"
     ]
    }
   ],
   "source": [
    "# extracting the first 2 rows and first 3 columns from the matrix\n",
    "sub_mat = rand_mat[0:2,0:3]\n",
    "print(sub_mat)"
   ]
  },
  {
   "cell_type": "code",
   "execution_count": 65,
   "metadata": {
    "colab": {
     "base_uri": "https://localhost:8080/"
    },
    "executionInfo": {
     "elapsed": 3,
     "status": "ok",
     "timestamp": 1642504855227,
     "user": {
      "displayName": "Sambodhi Manna",
      "photoUrl": "https://lh3.googleusercontent.com/a-/AOh14GhVAU5TU_3l04MhfSwWQiPTQywnOMuHa5h1OMoR4g=s64",
      "userId": "10481347771371009651"
     },
     "user_tz": -330
    },
    "id": "3DgctOvENt14",
    "outputId": "6a8cd2ad-5828-4de1-ffd4-1db172aac0a1"
   },
   "outputs": [
    {
     "name": "stdout",
     "output_type": "stream",
     "text": [
      "[[3. 3. 3.]\n",
      " [3. 3. 3.]]\n"
     ]
    }
   ],
   "source": [
    "# changing all the values of the extracted matrix to 3\n",
    "sub_mat[:] = 3\n",
    "print(sub_mat)"
   ]
  },
  {
   "cell_type": "code",
   "execution_count": 66,
   "metadata": {
    "colab": {
     "base_uri": "https://localhost:8080/"
    },
    "executionInfo": {
     "elapsed": 476,
     "status": "ok",
     "timestamp": 1642504861917,
     "user": {
      "displayName": "Sambodhi Manna",
      "photoUrl": "https://lh3.googleusercontent.com/a-/AOh14GhVAU5TU_3l04MhfSwWQiPTQywnOMuHa5h1OMoR4g=s64",
      "userId": "10481347771371009651"
     },
     "user_tz": -330
    },
    "id": "hskgV9vG9lxx",
    "outputId": "94cb9cc6-aefd-48c4-9353-90ff28a0ed79"
   },
   "outputs": [
    {
     "data": {
      "text/plain": [
       "array([[ 3.        ,  3.        ,  3.        ,  0.65122411, -0.97233248],\n",
       "       [ 3.        ,  3.        ,  3.        ,  0.0784663 ,  0.54934505],\n",
       "       [ 1.46738006, -0.79178691, -1.11833119, -0.14649231,  1.24301   ],\n",
       "       [ 0.45492561,  0.96630705, -0.59473249, -1.08439922, -0.44078568],\n",
       "       [-0.2954792 ,  0.82300024,  1.64248843,  0.10615033,  0.80220448]])"
      ]
     },
     "execution_count": 66,
     "metadata": {},
     "output_type": "execute_result"
    }
   ],
   "source": [
    "# what happened to rand_mat when we change sub_mat?\n",
    "rand_mat"
   ]
  },
  {
   "cell_type": "code",
   "execution_count": 67,
   "metadata": {
    "colab": {
     "base_uri": "https://localhost:8080/"
    },
    "executionInfo": {
     "elapsed": 3,
     "status": "ok",
     "timestamp": 1642504864245,
     "user": {
      "displayName": "Sambodhi Manna",
      "photoUrl": "https://lh3.googleusercontent.com/a-/AOh14GhVAU5TU_3l04MhfSwWQiPTQywnOMuHa5h1OMoR4g=s64",
      "userId": "10481347771371009651"
     },
     "user_tz": -330
    },
    "id": "PryCb2h29sHx",
    "outputId": "2c08be91-1d55-4ce5-e9c7-b2d14e5b98cd"
   },
   "outputs": [
    {
     "name": "stdout",
     "output_type": "stream",
     "text": [
      "[[ 0.03938222  0.34715163 -0.09053038 -2.83384359  0.6186174 ]\n",
      " [-0.48579697 -0.92822472 -0.37826625 -2.09295923  0.98692792]\n",
      " [ 0.15768358  1.50889694 -2.19241275 -1.99195257  1.07264506]\n",
      " [ 1.05162077  0.07893225 -0.21402247 -2.02199934  0.42356743]\n",
      " [-0.08313828 -0.54115578  0.87615438  0.44919499 -0.21109573]]\n",
      "[[3. 3. 3.]\n",
      " [3. 3. 3.]]\n",
      "[[ 0.03938222  0.34715163 -0.09053038 -2.83384359  0.6186174 ]\n",
      " [-0.48579697 -0.92822472 -0.37826625 -2.09295923  0.98692792]\n",
      " [ 0.15768358  1.50889694 -2.19241275 -1.99195257  1.07264506]\n",
      " [ 1.05162077  0.07893225 -0.21402247 -2.02199934  0.42356743]\n",
      " [-0.08313828 -0.54115578  0.87615438  0.44919499 -0.21109573]]\n"
     ]
    }
   ],
   "source": [
    "# to prevent this behavior we need to use the .copy() method when we assign sub_mat\n",
    "# this behavior is the source of MANY errors for early python users!!!\n",
    "\n",
    "rand_mat = np.random.randn(5,5)\n",
    "print(rand_mat)\n",
    "sub_mat = rand_mat[0:2,0:3].copy()\n",
    "sub_mat[:] = 3\n",
    "print(sub_mat)\n",
    "print(rand_mat)"
   ]
  },
  {
   "cell_type": "markdown",
   "metadata": {
    "id": "Uhy7xJlW0aDT"
   },
   "source": [
    "### 2.4 Saving and Loading a NumPy array"
   ]
  },
  {
   "cell_type": "markdown",
   "metadata": {
    "id": "qlyONcw5FeSh"
   },
   "source": [
    "**Let's save some NumPy objects on the disk for use later!**"
   ]
  },
  {
   "cell_type": "code",
   "execution_count": null,
   "metadata": {
    "id": "gikqL10PzrC1"
   },
   "outputs": [],
   "source": [
    "from google.colab import drive\n",
    "drive.mount('/content/drive')"
   ]
  },
  {
   "cell_type": "code",
   "execution_count": 95,
   "metadata": {
    "id": "G_w4dYUtFzZO"
   },
   "outputs": [
    {
     "name": "stdout",
     "output_type": "stream",
     "text": [
      "[[2 7 9 2 4]\n",
      " [9 2 1 5 9]]\n",
      "\n",
      "[[17 19 12 10 15]\n",
      " [11 16 10 19 16]]\n"
     ]
    }
   ],
   "source": [
    "# creating a random matrices\n",
    "randint_matrix1 = np.random.randint(1,10,10).reshape(2,5)\n",
    "print(randint_matrix1)\n",
    "print('')\n",
    "randint_matrix2 = np.random.randint(10,20,10).reshape(2,5)\n",
    "print(randint_matrix2)"
   ]
  },
  {
   "cell_type": "markdown",
   "metadata": {
    "id": "rysUk_pSFU1O"
   },
   "source": [
    "**Using np.save() function**"
   ]
  },
  {
   "cell_type": "code",
   "execution_count": 98,
   "metadata": {
    "id": "k9TyLFJ-tkU2"
   },
   "outputs": [],
   "source": [
    "np.save('saved_file_name',randint_matrix1)"
   ]
  },
  {
   "cell_type": "markdown",
   "metadata": {
    "id": "VMfbQlc2FYNl"
   },
   "source": [
    "**Using np.savez() function**"
   ]
  },
  {
   "cell_type": "code",
   "execution_count": 99,
   "metadata": {
    "id": "dhtVPefIRfGP"
   },
   "outputs": [],
   "source": [
    "np.savez('multiple_files',randint_matrix1=randint_matrix1,randint_matrix2=randint_matrix2)"
   ]
  },
  {
   "cell_type": "markdown",
   "metadata": {
    "id": "hDbZNqdLDj35"
   },
   "source": [
    "* The files will be saved in the directory where the Jupyter Notebook is located.\n",
    "* With np.save() function, we can save an array/matrix to a NumPy .npy format.\n",
    "* np.savez() function has an advantage over np.save() function because with np.savez(), we can store several arrays/matrices into a single file in uncompressed .npz format."
   ]
  },
  {
   "cell_type": "code",
   "execution_count": 100,
   "metadata": {
    "id": "h7mYd86cZeTq"
   },
   "outputs": [
    {
     "name": "stdout",
     "output_type": "stream",
     "text": [
      "[[2 7 9 2 4]\n",
      " [9 2 1 5 9]]\n",
      "\n",
      "<numpy.lib.npyio.NpzFile object at 0x000001C221C1BCD0>\n"
     ]
    }
   ],
   "source": [
    "# now let's load it\n",
    "loaded_arr = np.load('saved_file_name.npy')\n",
    "loaded_multi = np.load('multiple_files.npz')\n",
    "\n",
    "print(loaded_arr)\n",
    "print('')\n",
    "print(loaded_multi)"
   ]
  },
  {
   "cell_type": "markdown",
   "metadata": {
    "id": "21XxghDDG69T"
   },
   "source": [
    "* We see that .npy file has been loaded but the .npz file is returning a memory location.\n",
    "* Let's see how to load the values stored in .npz file."
   ]
  },
  {
   "cell_type": "code",
   "execution_count": 101,
   "metadata": {
    "id": "VezEM4uPZeZk"
   },
   "outputs": [
    {
     "name": "stdout",
     "output_type": "stream",
     "text": [
      "1st Matrix: \n",
      " [[2 7 9 2 4]\n",
      " [9 2 1 5 9]]\n",
      "2nd Matrix: \n",
      " [[17 19 12 10 15]\n",
      " [11 16 10 19 16]]\n",
      "New Matrix: \n",
      " [[2 7 9 2 4]\n",
      " [9 2 1 5 9]]\n"
     ]
    }
   ],
   "source": [
    "print('1st Matrix: \\n',loaded_multi['randint_matrix1'])\n",
    "print('2nd Matrix: \\n',loaded_multi['randint_matrix2'])\n",
    "\n",
    "new_matrix  = loaded_multi['randint_matrix1']\n",
    "print('New Matrix: \\n',new_matrix)"
   ]
  },
  {
   "cell_type": "code",
   "execution_count": 102,
   "metadata": {
    "id": "AyyZjATxZefd"
   },
   "outputs": [
    {
     "name": "stdout",
     "output_type": "stream",
     "text": [
      "[[2 7 9 2 4]\n",
      " [9 2 1 5 9]]\n",
      "\n",
      "[[2. 7. 9. 2. 4.]\n",
      " [9. 2. 1. 5. 9.]]\n"
     ]
    }
   ],
   "source": [
    "# we can also save/load text files...but only single variables\n",
    "np.savetxt('text_file_name.txt',randint_matrix1,delimiter=',')\n",
    "rand_mat_txt = np.loadtxt('text_file_name.txt',delimiter=',')\n",
    "print(randint_matrix1)\n",
    "print('')\n",
    "print(rand_mat_txt)"
   ]
  },
  {
   "cell_type": "code",
   "execution_count": 104,
   "metadata": {},
   "outputs": [
    {
     "data": {
      "text/plain": [
       "array([[1., 0.],\n",
       "       [0., 1.]])"
      ]
     },
     "execution_count": 104,
     "metadata": {},
     "output_type": "execute_result"
    }
   ],
   "source": [
    "np.identity(2)"
   ]
  },
  {
   "cell_type": "code",
   "execution_count": 106,
   "metadata": {},
   "outputs": [
    {
     "data": {
      "text/plain": [
       "array([[1., 0., 0., 0.],\n",
       "       [0., 1., 0., 0.],\n",
       "       [0., 0., 1., 0.],\n",
       "       [0., 0., 0., 1.]])"
      ]
     },
     "execution_count": 106,
     "metadata": {},
     "output_type": "execute_result"
    }
   ],
   "source": [
    "np.identity(2*2)"
   ]
  },
  {
   "cell_type": "code",
   "execution_count": 107,
   "metadata": {},
   "outputs": [
    {
     "data": {
      "text/plain": [
       "array([1., 1., 1., 1.])"
      ]
     },
     "execution_count": 107,
     "metadata": {},
     "output_type": "execute_result"
    }
   ],
   "source": [
    "np.ones(2*2)"
   ]
  },
  {
   "cell_type": "code",
   "execution_count": 120,
   "metadata": {},
   "outputs": [
    {
     "data": {
      "text/plain": [
       "(3, 3)"
      ]
     },
     "execution_count": 120,
     "metadata": {},
     "output_type": "execute_result"
    }
   ],
   "source": [
    "np.array([[9,8,7],[6,5,4],[3,2,1]]).shape"
   ]
  },
  {
   "cell_type": "code",
   "execution_count": 121,
   "metadata": {},
   "outputs": [
    {
     "data": {
      "text/plain": [
       "array([[9, 8, 7],\n",
       "       [6, 5, 4],\n",
       "       [3, 2, 1]])"
      ]
     },
     "execution_count": 121,
     "metadata": {},
     "output_type": "execute_result"
    }
   ],
   "source": [
    "np.arange(start = 9, stop = 0, step = -1).reshape(3,3)"
   ]
  },
  {
   "cell_type": "code",
   "execution_count": 124,
   "metadata": {},
   "outputs": [
    {
     "data": {
      "text/plain": [
       "array([[9, 8, 7],\n",
       "       [6, 5, 4],\n",
       "       [3, 2, 1]])"
      ]
     },
     "execution_count": 124,
     "metadata": {},
     "output_type": "execute_result"
    }
   ],
   "source": [
    "\n",
    "d1 = np.array([[9,8,7],[6,5,4],[3,2,1]])\n",
    "d1"
   ]
  },
  {
   "cell_type": "code",
   "execution_count": 126,
   "metadata": {},
   "outputs": [
    {
     "data": {
      "text/plain": [
       "array([[9, 8, 7],\n",
       "       [6, 5, 4],\n",
       "       [3, 2, 1]])"
      ]
     },
     "execution_count": 126,
     "metadata": {},
     "output_type": "execute_result"
    }
   ],
   "source": [
    "d1*1"
   ]
  },
  {
   "cell_type": "code",
   "execution_count": 127,
   "metadata": {},
   "outputs": [],
   "source": [
    "n6 = np.matrix([[ 1, 4, 9, 121, 144, 169], \n",
    "[ 16, 25, 36, 196, 225, 256], [ 49, 64, 81, 289, 324, 361]])"
   ]
  },
  {
   "cell_type": "code",
   "execution_count": 131,
   "metadata": {},
   "outputs": [
    {
     "data": {
      "text/plain": [
       "131.66666666666666"
      ]
     },
     "execution_count": 131,
     "metadata": {},
     "output_type": "execute_result"
    }
   ],
   "source": [
    "n6.mean()"
   ]
  },
  {
   "cell_type": "code",
   "execution_count": 132,
   "metadata": {},
   "outputs": [],
   "source": [
    "n1 = np.matrix([[121, 144, 169], \n",
    "[196, 225, 256], [ 289, 324, 361]])\n"
   ]
  },
  {
   "cell_type": "code",
   "execution_count": 134,
   "metadata": {},
   "outputs": [],
   "source": [
    "n2 = np.matrix([[ 1, 4, 9], \n",
    "[ 1, 5, 4], [ 9, 4, 8]])"
   ]
  },
  {
   "cell_type": "code",
   "execution_count": 135,
   "metadata": {},
   "outputs": [
    {
     "data": {
      "text/plain": [
       "matrix([[1786, 1880, 3017],\n",
       "        [2725, 2933, 4712],\n",
       "        [3862, 4220, 6785]])"
      ]
     },
     "execution_count": 135,
     "metadata": {},
     "output_type": "execute_result"
    }
   ],
   "source": [
    "n1@n2"
   ]
  },
  {
   "cell_type": "code",
   "execution_count": 136,
   "metadata": {},
   "outputs": [
    {
     "data": {
      "text/plain": [
       "array([2, 3, 4, 5, 6])"
      ]
     },
     "execution_count": 136,
     "metadata": {},
     "output_type": "execute_result"
    }
   ],
   "source": [
    "np.arange(20)[2:7]"
   ]
  },
  {
   "cell_type": "code",
   "execution_count": 137,
   "metadata": {},
   "outputs": [
    {
     "data": {
      "text/plain": [
       "array([ 0,  9, 18])"
      ]
     },
     "execution_count": 137,
     "metadata": {},
     "output_type": "execute_result"
    }
   ],
   "source": [
    "np.arange(20)[0::9] "
   ]
  },
  {
   "cell_type": "code",
   "execution_count": 138,
   "metadata": {},
   "outputs": [],
   "source": [
    "p = np.arange(20)"
   ]
  },
  {
   "cell_type": "code",
   "execution_count": 139,
   "metadata": {},
   "outputs": [
    {
     "data": {
      "text/plain": [
       "array([ 0,  1,  2,  3,  4,  5,  6,  7,  8,  9, 10, 11, 12, 13, 14, 15, 16,\n",
       "       17, 18, 19])"
      ]
     },
     "execution_count": 139,
     "metadata": {},
     "output_type": "execute_result"
    }
   ],
   "source": [
    "p"
   ]
  },
  {
   "cell_type": "code",
   "execution_count": 140,
   "metadata": {},
   "outputs": [
    {
     "data": {
      "text/plain": [
       "array([19, 18, 17, 16, 15, 14, 13, 12, 11, 10,  9,  8,  7,  6,  5,  4,  3,\n",
       "        2,  1,  0])"
      ]
     },
     "execution_count": 140,
     "metadata": {},
     "output_type": "execute_result"
    }
   ],
   "source": [
    "p[::-1]"
   ]
  },
  {
   "cell_type": "code",
   "execution_count": 143,
   "metadata": {},
   "outputs": [
    {
     "data": {
      "text/plain": [
       "array([1])"
      ]
     },
     "execution_count": 143,
     "metadata": {},
     "output_type": "execute_result"
    }
   ],
   "source": [
    "p[[1]]"
   ]
  },
  {
   "cell_type": "code",
   "execution_count": 145,
   "metadata": {},
   "outputs": [
    {
     "data": {
      "text/plain": [
       "19"
      ]
     },
     "execution_count": 145,
     "metadata": {},
     "output_type": "execute_result"
    }
   ],
   "source": [
    "p[-1]"
   ]
  },
  {
   "cell_type": "code",
   "execution_count": 146,
   "metadata": {},
   "outputs": [
    {
     "data": {
      "text/plain": [
       "matrix([[9, 4, 8],\n",
       "        [1, 5, 4],\n",
       "        [1, 4, 9]])"
      ]
     },
     "execution_count": 146,
     "metadata": {},
     "output_type": "execute_result"
    }
   ],
   "source": [
    "np.matrix([[ 1, 4, 9], [ 1, 5, 4], [ 9, 4, 8]])[::-1]"
   ]
  },
  {
   "cell_type": "code",
   "execution_count": null,
   "metadata": {},
   "outputs": [],
   "source": []
  }
 ],
 "metadata": {
  "colab": {
   "collapsed_sections": [],
   "name": "NumPy.ipynb",
   "provenance": [
    {
     "file_id": "1AwCKynsETraPBpn87wFyGusZh5bdgyRe",
     "timestamp": 1641496456895
    },
    {
     "file_id": "1WevWjPI6b_f6TZjdd86YMBJJKt40sH4Z",
     "timestamp": 1641397641220
    }
   ]
  },
  "kernelspec": {
   "display_name": "Python 3 (ipykernel)",
   "language": "python",
   "name": "python3"
  },
  "language_info": {
   "codemirror_mode": {
    "name": "ipython",
    "version": 3
   },
   "file_extension": ".py",
   "mimetype": "text/x-python",
   "name": "python",
   "nbconvert_exporter": "python",
   "pygments_lexer": "ipython3",
   "version": "3.12.4"
  }
 },
 "nbformat": 4,
 "nbformat_minor": 4
}
